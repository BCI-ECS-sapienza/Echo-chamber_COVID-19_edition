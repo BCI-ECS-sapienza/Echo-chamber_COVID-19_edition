{
  "nbformat": 4,
  "nbformat_minor": 0,
  "metadata": {
    "colab": {
      "name": "w2v_preprocessing.ipynb",
      "provenance": [],
      "collapsed_sections": []
    },
    "kernelspec": {
      "name": "python3",
      "display_name": "Python 3"
    }
  },
  "cells": [
    {
      "cell_type": "markdown",
      "metadata": {
        "id": "_Rx7gvaD8im4",
        "colab_type": "text"
      },
      "source": [
        "## Mount drive"
      ]
    },
    {
      "cell_type": "code",
      "metadata": {
        "id": "xddua16Y9nHS",
        "colab_type": "code",
        "colab": {
          "base_uri": "https://localhost:8080/",
          "height": 68
        },
        "outputId": "42cd416f-9a60-49eb-85bf-249ae8aca420"
      },
      "source": [
        "from google.colab import drive\n",
        "drive.mount('/content/drive')\n",
        "\n",
        "# graph files folder\n",
        "drive.mount('/content/drive')\n",
        "data = '/content/drive/My Drive/covid_project/graph_files'\n",
        "w2vdata = '/content/drive/My Drive/covid_project/word2vec'\n",
        "print(data)"
      ],
      "execution_count": 1,
      "outputs": [
        {
          "output_type": "stream",
          "text": [
            "Drive already mounted at /content/drive; to attempt to forcibly remount, call drive.mount(\"/content/drive\", force_remount=True).\n",
            "Drive already mounted at /content/drive; to attempt to forcibly remount, call drive.mount(\"/content/drive\", force_remount=True).\n",
            "/content/drive/My Drive/covid_project/graph_files\n"
          ],
          "name": "stdout"
        }
      ]
    },
    {
      "cell_type": "markdown",
      "metadata": {
        "id": "rswdWzox8oct",
        "colab_type": "text"
      },
      "source": [
        "# Import libraries"
      ]
    },
    {
      "cell_type": "code",
      "metadata": {
        "id": "teV09Pvz006F",
        "colab_type": "code",
        "colab": {
          "base_uri": "https://localhost:8080/",
          "height": 68
        },
        "outputId": "cabf6809-b953-4355-885e-72d5ab6736de"
      },
      "source": [
        "import json\n",
        "!pip install jsonlines\n",
        "import jsonlines\n",
        "import csv\n",
        "import os\n",
        "!pip install tweet-preprocessor\n",
        "import preprocessor as p\n",
        "import pandas as pd"
      ],
      "execution_count": 2,
      "outputs": [
        {
          "output_type": "stream",
          "text": [
            "Requirement already satisfied: jsonlines in /usr/local/lib/python3.6/dist-packages (1.2.0)\n",
            "Requirement already satisfied: six in /usr/local/lib/python3.6/dist-packages (from jsonlines) (1.12.0)\n",
            "Requirement already satisfied: tweet-preprocessor in /usr/local/lib/python3.6/dist-packages (0.6.0)\n"
          ],
          "name": "stdout"
        }
      ]
    },
    {
      "cell_type": "markdown",
      "metadata": {
        "id": "qEg26UV48thb",
        "colab_type": "text"
      },
      "source": [
        "# Creating a file .csv with only tweets text"
      ]
    },
    {
      "cell_type": "code",
      "metadata": {
        "id": "MfNvfssI06vq",
        "colab_type": "code",
        "colab": {}
      },
      "source": [
        "filename = data+'/sampled_tweets.jsonl'\n",
        "out_f = w2vdata+'/tweets_dataset.csv'\n",
        "\n",
        "with jsonlines.open(filename, 'r') as json_file:\n",
        "  with open(out_f, 'w') as out:\n",
        "    field_names = ['text']\n",
        "    writer = csv.DictWriter(out, fieldnames=field_names)\n",
        "\n",
        "    # If retweet take the original clean and complete text \n",
        "    for line in json_file:\n",
        "      if ('retweeted_status' in line):\n",
        "          x = line['retweeted_status']['full_text']\n",
        "          writer.writerow({'text':x})\n",
        "      else:\n",
        "        x = line['full_text']\n",
        "        writer.writerow({'text':x})\n",
        "\n",
        "out.close()"
      ],
      "execution_count": 3,
      "outputs": []
    },
    {
      "cell_type": "markdown",
      "metadata": {
        "id": "105jOkBE9CUk",
        "colab_type": "text"
      },
      "source": [
        "# Preprocessing tweets text"
      ]
    },
    {
      "cell_type": "code",
      "metadata": {
        "id": "-Gi6SHAvDcIx",
        "colab_type": "code",
        "colab": {
          "base_uri": "https://localhost:8080/",
          "height": 51
        },
        "outputId": "5a7c640d-499b-4a87-85eb-e5031aabf193"
      },
      "source": [
        "tweets_csv = pd.read_csv(w2vdata+'/tweets_dataset.csv', header = None, names=['text'], delimiter=\"\\t\", quoting=csv.QUOTE_NONE, encoding='utf-8')\n",
        "\n",
        "tweets_csv.count()"
      ],
      "execution_count": 4,
      "outputs": [
        {
          "output_type": "execute_result",
          "data": {
            "text/plain": [
              "text    43422\n",
              "dtype: int64"
            ]
          },
          "metadata": {
            "tags": []
          },
          "execution_count": 4
        }
      ]
    },
    {
      "cell_type": "code",
      "metadata": {
        "id": "8EpKr4d9ELsw",
        "colab_type": "code",
        "colab": {
          "base_uri": "https://localhost:8080/",
          "height": 204
        },
        "outputId": "20b78e2a-9ced-41d3-e85a-3e2c1e7f79c0"
      },
      "source": [
        "#Dropping duplicates and NaN from the dataframe\n",
        "tweets_csv = tweets_csv.dropna()\n",
        "tweets_csv = tweets_csv.drop_duplicates()\n",
        "\n",
        "tweets_csv.head()"
      ],
      "execution_count": 5,
      "outputs": [
        {
          "output_type": "execute_result",
          "data": {
            "text/html": [
              "<div>\n",
              "<style scoped>\n",
              "    .dataframe tbody tr th:only-of-type {\n",
              "        vertical-align: middle;\n",
              "    }\n",
              "\n",
              "    .dataframe tbody tr th {\n",
              "        vertical-align: top;\n",
              "    }\n",
              "\n",
              "    .dataframe thead th {\n",
              "        text-align: right;\n",
              "    }\n",
              "</style>\n",
              "<table border=\"1\" class=\"dataframe\">\n",
              "  <thead>\n",
              "    <tr style=\"text-align: right;\">\n",
              "      <th></th>\n",
              "      <th>text</th>\n",
              "    </tr>\n",
              "  </thead>\n",
              "  <tbody>\n",
              "    <tr>\n",
              "      <th>0</th>\n",
              "      <td>\"BREAKING: The University of Liverpool has clo...</td>\n",
              "    </tr>\n",
              "    <tr>\n",
              "      <th>1</th>\n",
              "      <td>I am forever grateful to live in this city. It...</td>\n",
              "    </tr>\n",
              "    <tr>\n",
              "      <th>2</th>\n",
              "      <td>#coronavirus https://t.co/9o570wMHF7\"</td>\n",
              "    </tr>\n",
              "    <tr>\n",
              "      <th>3</th>\n",
              "      <td>What in the sam Hell? https://t.co/PO0pBhcWH6</td>\n",
              "    </tr>\n",
              "    <tr>\n",
              "      <th>4</th>\n",
              "      <td>This is HARD AS FUCK. https://t.co/B7mFPnNEZf</td>\n",
              "    </tr>\n",
              "  </tbody>\n",
              "</table>\n",
              "</div>"
            ],
            "text/plain": [
              "                                                text\n",
              "0  \"BREAKING: The University of Liverpool has clo...\n",
              "1  I am forever grateful to live in this city. It...\n",
              "2              #coronavirus https://t.co/9o570wMHF7\"\n",
              "3      What in the sam Hell? https://t.co/PO0pBhcWH6\n",
              "4      This is HARD AS FUCK. https://t.co/B7mFPnNEZf"
            ]
          },
          "metadata": {
            "tags": []
          },
          "execution_count": 5
        }
      ]
    },
    {
      "cell_type": "code",
      "metadata": {
        "id": "yUOcZtgcUvit",
        "colab_type": "code",
        "colab": {
          "base_uri": "https://localhost:8080/",
          "height": 51
        },
        "outputId": "070e6e03-7817-462b-efd7-e2f59517fd49"
      },
      "source": [
        "tweets_csv.count()"
      ],
      "execution_count": 6,
      "outputs": [
        {
          "output_type": "execute_result",
          "data": {
            "text/plain": [
              "text    30673\n",
              "dtype: int64"
            ]
          },
          "metadata": {
            "tags": []
          },
          "execution_count": 6
        }
      ]
    },
    {
      "cell_type": "code",
      "metadata": {
        "id": "JSpnkMsgtyNy",
        "colab_type": "code",
        "colab": {}
      },
      "source": [
        "def preprocess_tweet(row):\n",
        "    text = row['text']\n",
        "    text = p.clean(text)\n",
        "    return text"
      ],
      "execution_count": 7,
      "outputs": []
    },
    {
      "cell_type": "code",
      "metadata": {
        "id": "Ldvt2v7DU7Tc",
        "colab_type": "code",
        "colab": {
          "base_uri": "https://localhost:8080/",
          "height": 204
        },
        "outputId": "58c4b838-7a49-417f-f12a-c5580cc453cb"
      },
      "source": [
        "#Tweet have to be cleaned to normal text\n",
        "tweets_csv['text'] = tweets_csv.apply(preprocess_tweet, axis=1)\n",
        "tweets_csv.head()"
      ],
      "execution_count": 8,
      "outputs": [
        {
          "output_type": "execute_result",
          "data": {
            "text/html": [
              "<div>\n",
              "<style scoped>\n",
              "    .dataframe tbody tr th:only-of-type {\n",
              "        vertical-align: middle;\n",
              "    }\n",
              "\n",
              "    .dataframe tbody tr th {\n",
              "        vertical-align: top;\n",
              "    }\n",
              "\n",
              "    .dataframe thead th {\n",
              "        text-align: right;\n",
              "    }\n",
              "</style>\n",
              "<table border=\"1\" class=\"dataframe\">\n",
              "  <thead>\n",
              "    <tr style=\"text-align: right;\">\n",
              "      <th></th>\n",
              "      <th>text</th>\n",
              "    </tr>\n",
              "  </thead>\n",
              "  <tbody>\n",
              "    <tr>\n",
              "      <th>0</th>\n",
              "      <td>\"BREAKING: The University of Liverpool has clo...</td>\n",
              "    </tr>\n",
              "    <tr>\n",
              "      <th>1</th>\n",
              "      <td>I am forever grateful to live in this city. It...</td>\n",
              "    </tr>\n",
              "    <tr>\n",
              "      <th>2</th>\n",
              "      <td>\"</td>\n",
              "    </tr>\n",
              "    <tr>\n",
              "      <th>3</th>\n",
              "      <td>What in the sam Hell?</td>\n",
              "    </tr>\n",
              "    <tr>\n",
              "      <th>4</th>\n",
              "      <td>This is HARD AS FUCK.</td>\n",
              "    </tr>\n",
              "  </tbody>\n",
              "</table>\n",
              "</div>"
            ],
            "text/plain": [
              "                                                text\n",
              "0  \"BREAKING: The University of Liverpool has clo...\n",
              "1  I am forever grateful to live in this city. It...\n",
              "2                                                  \"\n",
              "3                              What in the sam Hell?\n",
              "4                              This is HARD AS FUCK."
            ]
          },
          "metadata": {
            "tags": []
          },
          "execution_count": 8
        }
      ]
    },
    {
      "cell_type": "code",
      "metadata": {
        "id": "sXumA7A6t9ER",
        "colab_type": "code",
        "colab": {}
      },
      "source": [
        "from gensim.parsing.preprocessing import remove_stopwords\n",
        "def stopword_removal(row):\n",
        "    text = row['text']\n",
        "    text = remove_stopwords(text)\n",
        "    return text"
      ],
      "execution_count": 9,
      "outputs": []
    },
    {
      "cell_type": "code",
      "metadata": {
        "id": "8LPwPx9xgcF5",
        "colab_type": "code",
        "colab": {}
      },
      "source": [
        "#Removing stop words\n",
        "tweets_csv['text'] = tweets_csv.apply(stopword_removal, axis=1)"
      ],
      "execution_count": 10,
      "outputs": []
    },
    {
      "cell_type": "code",
      "metadata": {
        "id": "Y3Z2xt7Lgj6E",
        "colab_type": "code",
        "colab": {
          "base_uri": "https://localhost:8080/",
          "height": 204
        },
        "outputId": "e8b43330-cda6-4abd-a971-fe5e01a39c27"
      },
      "source": [
        "tweets_csv.head()"
      ],
      "execution_count": 11,
      "outputs": [
        {
          "output_type": "execute_result",
          "data": {
            "text/html": [
              "<div>\n",
              "<style scoped>\n",
              "    .dataframe tbody tr th:only-of-type {\n",
              "        vertical-align: middle;\n",
              "    }\n",
              "\n",
              "    .dataframe tbody tr th {\n",
              "        vertical-align: top;\n",
              "    }\n",
              "\n",
              "    .dataframe thead th {\n",
              "        text-align: right;\n",
              "    }\n",
              "</style>\n",
              "<table border=\"1\" class=\"dataframe\">\n",
              "  <thead>\n",
              "    <tr style=\"text-align: right;\">\n",
              "      <th></th>\n",
              "      <th>text</th>\n",
              "    </tr>\n",
              "  </thead>\n",
              "  <tbody>\n",
              "    <tr>\n",
              "      <th>0</th>\n",
              "      <td>\"BREAKING: The University Liverpool closed tod...</td>\n",
              "    </tr>\n",
              "    <tr>\n",
              "      <th>1</th>\n",
              "      <td>I forever grateful live city. It's right thing...</td>\n",
              "    </tr>\n",
              "    <tr>\n",
              "      <th>2</th>\n",
              "      <td>\"</td>\n",
              "    </tr>\n",
              "    <tr>\n",
              "      <th>3</th>\n",
              "      <td>What sam Hell?</td>\n",
              "    </tr>\n",
              "    <tr>\n",
              "      <th>4</th>\n",
              "      <td>This HARD AS FUCK.</td>\n",
              "    </tr>\n",
              "  </tbody>\n",
              "</table>\n",
              "</div>"
            ],
            "text/plain": [
              "                                                text\n",
              "0  \"BREAKING: The University Liverpool closed tod...\n",
              "1  I forever grateful live city. It's right thing...\n",
              "2                                                  \"\n",
              "3                                     What sam Hell?\n",
              "4                                 This HARD AS FUCK."
            ]
          },
          "metadata": {
            "tags": []
          },
          "execution_count": 11
        }
      ]
    },
    {
      "cell_type": "code",
      "metadata": {
        "id": "wVp0hdgDgsJt",
        "colab_type": "code",
        "colab": {}
      },
      "source": [
        "#Removing alphanumeric words, one character words and other words we are not considering useful\n",
        "tweets_csv['text'] = tweets_csv['text'].str.lower().str.replace('[^\\w\\s]',' ').str.replace('\\w*\\d\\w*',' ').str.replace(r'\\b[a-zA-Z]\\b|\\b[a-zA-Z][a-zA-Z]\\b', ' ').str.replace(r'\\b_*',' ').str.replace('\\s\\s+', ' ')"
      ],
      "execution_count": 12,
      "outputs": []
    },
    {
      "cell_type": "code",
      "metadata": {
        "id": "Z7l0g0bHgzP3",
        "colab_type": "code",
        "colab": {
          "base_uri": "https://localhost:8080/",
          "height": 204
        },
        "outputId": "1789a66a-129e-4be4-969d-5029bd87567e"
      },
      "source": [
        "tweets_csv.head()"
      ],
      "execution_count": 13,
      "outputs": [
        {
          "output_type": "execute_result",
          "data": {
            "text/html": [
              "<div>\n",
              "<style scoped>\n",
              "    .dataframe tbody tr th:only-of-type {\n",
              "        vertical-align: middle;\n",
              "    }\n",
              "\n",
              "    .dataframe tbody tr th {\n",
              "        vertical-align: top;\n",
              "    }\n",
              "\n",
              "    .dataframe thead th {\n",
              "        text-align: right;\n",
              "    }\n",
              "</style>\n",
              "<table border=\"1\" class=\"dataframe\">\n",
              "  <thead>\n",
              "    <tr style=\"text-align: right;\">\n",
              "      <th></th>\n",
              "      <th>text</th>\n",
              "    </tr>\n",
              "  </thead>\n",
              "  <tbody>\n",
              "    <tr>\n",
              "      <th>0</th>\n",
              "      <td>breaking the university liverpool closed toda...</td>\n",
              "    </tr>\n",
              "    <tr>\n",
              "      <th>1</th>\n",
              "      <td>forever grateful live city right thing scouse...</td>\n",
              "    </tr>\n",
              "    <tr>\n",
              "      <th>2</th>\n",
              "      <td></td>\n",
              "    </tr>\n",
              "    <tr>\n",
              "      <th>3</th>\n",
              "      <td>what sam hell</td>\n",
              "    </tr>\n",
              "    <tr>\n",
              "      <th>4</th>\n",
              "      <td>this hard fuck</td>\n",
              "    </tr>\n",
              "  </tbody>\n",
              "</table>\n",
              "</div>"
            ],
            "text/plain": [
              "                                                text\n",
              "0   breaking the university liverpool closed toda...\n",
              "1   forever grateful live city right thing scouse...\n",
              "2                                                   \n",
              "3                                     what sam hell \n",
              "4                                    this hard fuck "
            ]
          },
          "metadata": {
            "tags": []
          },
          "execution_count": 13
        }
      ]
    },
    {
      "cell_type": "code",
      "metadata": {
        "id": "p-S7dk75hLoV",
        "colab_type": "code",
        "colab": {}
      },
      "source": [
        "#Saving results on a .csv file\n",
        "tweets_csv.dropna()\n",
        "tweets_csv.to_csv(w2vdata+'/tweets_preprocessed.csv', index=False, header=False)"
      ],
      "execution_count": 14,
      "outputs": []
    },
    {
      "cell_type": "code",
      "metadata": {
        "id": "aZnTeGt1NFeU",
        "colab_type": "code",
        "colab": {}
      },
      "source": [
        "# Delete empty rows\n",
        "with open(w2vdata+'/tweets_preprocessed.csv', 'r', encoding='utf-8', errors='ignore') as inp, open(w2vdata+'/tweets_rows_deleted.csv', 'w', encoding='utf-8') as out:\n",
        "    writer = csv.writer(out)\n",
        "    for row in csv.reader(inp):\n",
        "      if len(row[0]) > 1:\n",
        "        writer.writerow(row)\n",
        "inp.close()\n",
        "out.close()"
      ],
      "execution_count": 15,
      "outputs": []
    },
    {
      "cell_type": "markdown",
      "metadata": {
        "id": "-3XlaoRQ-HMH",
        "colab_type": "text"
      },
      "source": [
        "# Making Dictionary"
      ]
    },
    {
      "cell_type": "code",
      "metadata": {
        "id": "D1J6t2MeuYQm",
        "colab_type": "code",
        "colab": {
          "base_uri": "https://localhost:8080/",
          "height": 34
        },
        "outputId": "72850871-6994-4c6d-b6e0-3d3bce9a8f06"
      },
      "source": [
        "from nltk import FreqDist\n",
        "\n",
        "# dictionary with occurrencies\n",
        "word_dist = FreqDist()\n",
        "with open(w2vdata+'/tweets_rows_deleted.csv', 'r', encoding='utf-8') as inp:\n",
        "  for row in csv.reader(inp):\n",
        "    word_dist.update(row[0].split())\n",
        "\n",
        "dic = dict(word_dist)\n",
        "\n",
        "# print first n elements in dic\n",
        "n = 10\n",
        "first_n = {k: dic[k] for k in list(dic)[:n]}\n",
        "print(first_n)"
      ],
      "execution_count": 16,
      "outputs": [
        {
          "output_type": "stream",
          "text": [
            "{'breaking': 241, 'the': 2204, 'university': 58, 'liverpool': 10, 'closed': 190, 'today': 544, 'rest': 88, 'academic': 13, 'year': 202, 'forever': 18}\n"
          ],
          "name": "stdout"
        }
      ]
    },
    {
      "cell_type": "code",
      "metadata": {
        "id": "i7R1eq83uefp",
        "colab_type": "code",
        "colab": {
          "base_uri": "https://localhost:8080/",
          "height": 71
        },
        "outputId": "47a8e762-c52d-48ba-93ce-531ce183b931"
      },
      "source": [
        "#Alphabetic order dictionary\n",
        "dic = {key:val for key, val in dic.items() if val != 1 and val != 2}\n",
        "dic_items = dic.items()\n",
        "sorted_dic = sorted(dic_items)\n",
        "print(f'#words: {len(sorted_dic)}')\n",
        "\n",
        "# print first n elements in orderd dic\n",
        "n = 10\n",
        "print(sorted_dic[:n])"
      ],
      "execution_count": 17,
      "outputs": [
        {
          "output_type": "stream",
          "text": [
            "#words: 8341\n",
            "[('abandon', 5), ('abandoned', 9), ('abandoning', 4), ('abbott', 4), ('abc', 5), ('ability', 37), ('able', 101), ('ably', 3), ('aboard', 10), ('abortion', 20)]\n"
          ],
          "name": "stdout"
        }
      ]
    },
    {
      "cell_type": "code",
      "metadata": {
        "id": "9t9STmmxuhTb",
        "colab_type": "code",
        "colab": {}
      },
      "source": [
        "#Saving dictionary\n",
        "with open(w2vdata+'/dictionary.csv', 'w') as csv_file:  \n",
        "    writer = csv.writer(csv_file)\n",
        "    for elem in sorted_dic:\n",
        "        writer.writerow([elem[0],elem[1]])\n",
        "csv_file.close()"
      ],
      "execution_count": 18,
      "outputs": []
    },
    {
      "cell_type": "markdown",
      "metadata": {
        "id": "Ki2lA0Tlv0Kz",
        "colab_type": "text"
      },
      "source": [
        "### Most recurrent words"
      ]
    },
    {
      "cell_type": "code",
      "metadata": {
        "id": "l1PUpnbXuxiQ",
        "colab_type": "code",
        "colab": {
          "base_uri": "https://localhost:8080/",
          "height": 34
        },
        "outputId": "3ee8d26e-29cb-4c55-fd95-a85b6ea68105"
      },
      "source": [
        "bst = []\n",
        "\n",
        "values = sorted(dic.values())\n",
        "\n",
        "for elem in range(1,20):\n",
        "  i = - elem\n",
        "  bst.append(values[i])\n",
        "print(bst)"
      ],
      "execution_count": 19,
      "outputs": [
        {
          "output_type": "stream",
          "text": [
            "[2261, 2204, 1917, 1562, 1290, 1061, 932, 920, 825, 775, 759, 752, 741, 698, 691, 657, 653, 643, 616]\n"
          ],
          "name": "stdout"
        }
      ]
    },
    {
      "cell_type": "code",
      "metadata": {
        "id": "Y7mIrEU7vvKH",
        "colab_type": "code",
        "colab": {
          "base_uri": "https://localhost:8080/",
          "height": 54
        },
        "outputId": "c8aedd90-dbfa-41b1-ead3-6be2dace35b9"
      },
      "source": [
        "words = []\n",
        "\n",
        "for val in bst:\n",
        "  for word in dic:\n",
        "    if dic[word] == val:\n",
        "      words.append(word)\n",
        "\n",
        "print(words)"
      ],
      "execution_count": 20,
      "outputs": [
        {
          "output_type": "stream",
          "text": [
            "['amp', 'the', 'people', 'this', 'cases', 'health', 'new', 'coronavirus', 'virus', 'need', 'you', 'like', 'spread', 'help', 'time', 'trump', 'china', 'home', 'pandemic']\n"
          ],
          "name": "stdout"
        }
      ]
    }
  ]
}
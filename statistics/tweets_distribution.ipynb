{
  "cells": [
    {
      "cell_type": "markdown",
      "metadata": {
        "id": "ft_UmyzRPHp5",
        "colab_type": "text"
      },
      "source": [
        "# Tweets distribution"
      ]
    },
    {
      "cell_type": "markdown",
      "metadata": {
        "id": "6IE6rKUQy1nd",
        "colab_type": "text"
      },
      "source": [
        "### Import data"
      ]
    },
    {
      "cell_type": "code",
      "metadata": {
        "id": "zeIZFHpiy2K3",
        "colab_type": "code",
        "colab": {
          "base_uri": "https://localhost:8080/",
          "height": 51
        },
        "outputId": "9f08422c-7b3a-45fc-87d5-797ff85e9b36"
      },
      "source": [
        "import os\n",
        "from google.colab import drive\n",
        "\n",
        "\n",
        "# tweets folder contains all tweets\n",
        "drive.mount('/content/drive')\n",
        "dataset = '/content/drive/My Drive/covid_project/tweets'\n",
        "print(dataset)\n"
      ],
      "execution_count": null,
      "outputs": [
        {
          "output_type": "stream",
          "text": [
            "Drive already mounted at /content/drive; to attempt to forcibly remount, call drive.mount(\"/content/drive\", force_remount=True).\n",
            "/content/drive/My Drive/covid_project/tweets\n"
          ],
          "name": "stdout"
        }
      ]
    },
    {
      "cell_type": "code",
      "execution_count": null,
      "metadata": {},
      "outputs": [],
      "source": [
        "!pip install jsonlines"
      ]
    },
    {
      "cell_type": "markdown",
      "metadata": {
        "id": "JR0fhZ31w-JO",
        "colab_type": "text"
      },
      "source": [
        "### make counter < account : # tweets >"
      ]
    },
    {
      "cell_type": "code",
      "metadata": {
        "id": "REZpMqBkw7TA",
        "colab_type": "code",
        "colab": {}
      },
      "source": [
        "import glob\n",
        "import jsonlines\n",
        "from collections import Counter\n",
        "\n",
        "accounts = Counter()\n",
        "for file in glob.glob(dataset+\"/*.jsonl\"):\n",
        "  with jsonlines.open(file) as infile:\n",
        "      for line in infile:\n",
        "          user = line['user']['name']\n",
        "          accounts[user] += 1\n"
      ],
      "execution_count": null,
      "outputs": []
    },
    {
      "cell_type": "code",
      "metadata": {
        "id": "cyMYFMYC16V5",
        "colab_type": "code",
        "colab": {
          "base_uri": "https://localhost:8080/",
          "height": 34
        },
        "outputId": "b4c12e9f-7ccf-44e9-a9b4-b9df660408ed"
      },
      "source": [
        "print(f\"Unique accounts: {len(accounts)}\")\n",
        "#print(accounts)"
      ],
      "execution_count": null,
      "outputs": [
        {
          "output_type": "stream",
          "text": [
            "Unique accounts: 1169150\n"
          ],
          "name": "stdout"
        }
      ]
    },
    {
      "cell_type": "markdown",
      "metadata": {
        "id": "x7gUBXtRz-hd",
        "colab_type": "text"
      },
      "source": [
        "### Plot distribution"
      ]
    },
    {
      "cell_type": "code",
      "metadata": {
        "id": "TaspSgcSwGdS",
        "colab_type": "code",
        "colab": {
          "base_uri": "https://localhost:8080/",
          "height": 1000
        },
        "outputId": "d469d824-2b3e-4853-8862-5a11b36eb793"
      },
      "source": [
        "from matplotlib  import pyplot as plt\n",
        "\n",
        "# find distribution\n",
        "values = accounts.values()\n",
        "\n",
        "n_tweets = Counter()\n",
        "for val in values:\n",
        "    n_tweets[val] += 1\n",
        "\n",
        "\n",
        "# set params\n",
        "threshold = 0.9\n",
        "to_show = 20\n",
        "to_show_end = 200\n",
        "to_plot_x = 300\n",
        "to_plot_y = 300\n",
        "\n",
        "\n",
        "# print distribution values\n",
        "X, Y = [], []\n",
        "found_threshold = False\n",
        "threshold_val = 0\n",
        "s = 0\n",
        "tot = sum(n_tweets.values())\n",
        "\n",
        "print(f\"First {to_show} values: \\n\")\n",
        "for x in range(1, max(values)):\n",
        "    X.append(x)\n",
        "    Y.append(n_tweets[x])\n",
        "    if x < to_show+1:\n",
        "        print(f\"#{x} {n_tweets[x]}\")\n",
        "    s += n_tweets[x]\n",
        "    if not found_threshold and s/tot > threshold:\n",
        "        found_threshold = True\n",
        "        threshold_val = x\n",
        "\n",
        "print(f\"\\n{threshold*100}% of accounts have less than {threshold_val} tweets\\n\\n\")\n",
        "\n",
        "\n",
        "# adjust plot view\n",
        "plt.plot(X,Y, color=\"blue\", lw=1.5)\n",
        "plt.gcf().set_size_inches(10, 10)\n",
        "\n",
        "plt.rcParams.update({'font.size': 33})\n",
        "plt.rc('xtick', labelsize=25)\n",
        "plt.rc('ytick', labelsize=25)\n",
        "\n",
        "\n",
        "plt.xlim((0,to_plot_x))\n",
        "plt.ylim((0,to_plot_y))\n",
        "\n",
        "plt.xlabel(\"# Tweets\")\n",
        "plt.ylabel(\"# Users\")\n",
        "\n",
        "plt.show()"
      ],
      "execution_count": null,
      "outputs": [
        {
          "output_type": "stream",
          "text": [
            "First 20 values: \n",
            "\n",
            "#1 795383\n",
            "#2 186736\n",
            "#3 68835\n",
            "#4 34746\n",
            "#5 20654\n",
            "#6 13716\n",
            "#7 9470\n",
            "#8 6900\n",
            "#9 5168\n",
            "#10 4056\n",
            "#11 3209\n",
            "#12 2534\n",
            "#13 2107\n",
            "#14 1796\n",
            "#15 1463\n",
            "#16 1253\n",
            "#17 1074\n",
            "#18 953\n",
            "#19 869\n",
            "#20 691\n",
            "\n",
            "90.0% of accounts have less than 4 tweets\n",
            "\n",
            "\n"
          ],
          "name": "stdout"
        },
        {
          "output_type": "display_data",
          "data": {
            "image/png": "[encoded data removed]",
            "text/plain": [
              "<Figure size 720x720 with 1 Axes>"
            ]
          },
          "metadata": {
            "tags": [],
            "needs_background": "light"
          }
        }
      ]
    },
    {
      "cell_type": "code",
      "metadata": {
        "id": "fVfo5CF_w8Tz",
        "colab_type": "code",
        "colab": {}
      },
      "source": [
        ""
      ],
      "execution_count": null,
      "outputs": []
    }
  ],
  "metadata": {
    "colab": {
      "name": "tweets_distribution.ipynb",
      "provenance": [],
      "collapsed_sections": []
    },
    "kernelspec": {
      "name": "python3",
      "display_name": "Python 3"
    }
  },
  "nbformat": 4,
  "nbformat_minor": 0
}
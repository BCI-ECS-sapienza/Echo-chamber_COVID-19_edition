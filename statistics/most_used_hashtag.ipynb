{
  "cells": [
    {
      "cell_type": "markdown",
      "metadata": {
        "id": "ft_UmyzRPHp5",
        "colab_type": "text"
      },
      "source": [
        "# Most used hashtags\n"
      ]
    },
    {
      "cell_type": "markdown",
      "metadata": {
        "id": "6IE6rKUQy1nd",
        "colab_type": "text"
      },
      "source": [
        "### Import data"
      ]
    },
    {
      "cell_type": "code",
      "metadata": {
        "id": "zeIZFHpiy2K3",
        "colab_type": "code",
        "colab": {
          "base_uri": "https://localhost:8080/",
          "height": 51
        },
        "outputId": "c86b375f-e03d-40f8-b4ff-856038b843e0"
      },
      "source": [
        "import os\n",
        "from google.colab import drive\n",
        "\n",
        "\n",
        "# tweets folder contains all tweets\n",
        "drive.mount('/content/drive')\n",
        "dataset = '/content/drive/My Drive/covid_project/tweets'\n",
        "print(dataset)\n"
      ],
      "execution_count": 1,
      "outputs": [
        {
          "output_type": "stream",
          "text": [
            "Drive already mounted at /content/drive; to attempt to forcibly remount, call drive.mount(\"/content/drive\", force_remount=True).\n",
            "/content/drive/My Drive/covid_project/tweets\n"
          ],
          "name": "stdout"
        }
      ]
    },
    {
      "cell_type": "code",
      "execution_count": null,
      "metadata": {},
      "outputs": [],
      "source": [
        "!pip install jsonlines"
      ]
    },
    {
      "cell_type": "markdown",
      "metadata": {
        "id": "JR0fhZ31w-JO",
        "colab_type": "text"
      },
      "source": [
        "### make counter < hashtag : # tweets >"
      ]
    },
    {
      "cell_type": "code",
      "metadata": {
        "id": "REZpMqBkw7TA",
        "colab_type": "code",
        "colab": {}
      },
      "source": [
        "import glob\n",
        "import jsonlines\n",
        "from collections import Counter\n",
        "\n",
        "hashtags = Counter()\n",
        "for file in glob.glob(dataset+\"/*.jsonl\"):\n",
        "  with jsonlines.open(file) as infile:\n",
        "      for line in infile:\n",
        "          for hashtag in line['entities']['hashtags']:\n",
        "            tag = hashtag['text'].lower()  \n",
        "            hashtags[tag] += 1\n",
        "\n",
        "# remove dataset keywords (do not consider possible lower)\n",
        "del hashtags['coronavirus']\n",
        "del hashtags['coronaoutbreak']\n",
        "del hashtags['covid19']\n"
      ],
      "execution_count": 3,
      "outputs": []
    },
    {
      "cell_type": "code",
      "metadata": {
        "id": "cyMYFMYC16V5",
        "colab_type": "code",
        "colab": {
          "base_uri": "https://localhost:8080/",
          "height": 34
        },
        "outputId": "edb3875e-5272-4b3d-84cf-403e0321a01f"
      },
      "source": [
        "print(f\"Total differnt hashtags: {len(hashtags)}\")\n",
        "#print(hashtags)"
      ],
      "execution_count": 4,
      "outputs": [
        {
          "output_type": "stream",
          "text": [
            "Total differnt hashtags: 123025\n"
          ],
          "name": "stdout"
        }
      ]
    },
    {
      "cell_type": "markdown",
      "metadata": {
        "id": "x7gUBXtRz-hd",
        "colab_type": "text"
      },
      "source": [
        "### Show most cited domains"
      ]
    },
    {
      "cell_type": "code",
      "metadata": {
        "id": "TaspSgcSwGdS",
        "colab_type": "code",
        "colab": {
          "base_uri": "https://localhost:8080/",
          "height": 1000
        },
        "outputId": "514e0da5-2755-4a11-9593-7e5dfcf61465"
      },
      "source": [
        "# print most cited domains\n",
        "to_show = 60\n",
        "\n",
        "i = 1\n",
        "for tag, count in hashtags.most_common(to_show):\n",
        "    print(f\"#{i} => {tag}: {count}\")\n",
        "    i += 1\n"
      ],
      "execution_count": 5,
      "outputs": [
        {
          "output_type": "stream",
          "text": [
            "#1 => covidー19: 42470\n",
            "#2 => coronavirusoutbreak: 25829\n",
            "#3 => dontbeaspreader: 19885\n",
            "#4 => coronavirusupdates: 19679\n",
            "#5 => breaking: 19472\n",
            "#6 => covid_19: 19299\n",
            "#7 => china: 18614\n",
            "#8 => italy: 18133\n",
            "#9 => covid2019: 16393\n",
            "#10 => coronapocalypse: 12820\n",
            "#11 => iran: 11021\n",
            "#12 => corona: 10400\n",
            "#13 => covid: 9712\n",
            "#14 => coronaviruspandemic: 9559\n",
            "#15 => coronavirusupdate: 9051\n",
            "#16 => pandemic: 8362\n",
            "#17 => socialdistancing: 8332\n",
            "#18 => trump: 8230\n",
            "#19 => flattenthecurve: 7899\n",
            "#20 => wuhan: 7582\n",
            "#21 => coronapocolypse: 5740\n",
            "#22 => quarantine: 5328\n",
            "#23 => stayhome: 5313\n",
            "#24 => lockdown: 4350\n",
            "#25 => quarantinelife: 4215\n",
            "#26 => coronavirusuk: 4016\n",
            "#27 => nyc: 3881\n",
            "#28 => stayathome: 3684\n",
            "#29 => sarscov2: 3545\n",
            "#30 => coronavirusindia: 3481\n",
            "#31 => india: 3177\n",
            "#32 => coronavirususa: 3155\n",
            "#33 => us: 3056\n",
            "#34 => france: 2929\n",
            "#35 => health: 2845\n",
            "#36 => who: 2837\n",
            "#37 => shipsgoingdown: 2827\n",
            "#38 => wuhanvirus: 2584\n",
            "#39 => auspol: 2573\n",
            "#40 => covid19malaysia: 2566\n",
            "#41 => usa: 2522\n",
            "#42 => safehands: 2501\n",
            "#43 => yomequedoencasa: 2499\n",
            "#44 => virus: 2374\n",
            "#45 => sars: 2369\n",
            "#46 => washyourhands: 2359\n",
            "#47 => covidー19uk: 2355\n",
            "#48 => spain: 2335\n",
            "#49 => coronavirustruth: 2333\n",
            "#50 => uk: 2319\n",
            "#51 => staysafe: 2244\n",
            "#52 => nhs: 2093\n",
            "#53 => indiafightscorona: 2092\n",
            "#54 => taiwan: 2069\n",
            "#55 => coronaalert: 2054\n",
            "#56 => ccp: 1985\n",
            "#57 => aids: 1964\n",
            "#58 => maga: 1899\n",
            "#59 => cdnpoli: 1892\n",
            "#60 => fakenews: 1858\n"
          ],
          "name": "stdout"
        }
      ]
    }
  ],
  "metadata": {
    "colab": {
      "name": "most_used_hashtag.ipynb",
      "provenance": [],
      "collapsed_sections": []
    },
    "kernelspec": {
      "name": "python3",
      "display_name": "Python 3"
    }
  },
  "nbformat": 4,
  "nbformat_minor": 0
}
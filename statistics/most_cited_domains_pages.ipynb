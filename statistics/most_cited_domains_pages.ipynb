{
  "cells": [
    {
      "cell_type": "markdown",
      "metadata": {
        "id": "ft_UmyzRPHp5",
        "colab_type": "text"
      },
      "source": [
        "# Common domains"
      ]
    },
    {
      "cell_type": "markdown",
      "metadata": {
        "id": "6IE6rKUQy1nd",
        "colab_type": "text"
      },
      "source": [
        "### Import data"
      ]
    },
    {
      "cell_type": "code",
      "metadata": {
        "id": "zeIZFHpiy2K3",
        "colab_type": "code",
        "colab": {
          "base_uri": "https://localhost:8080/",
          "height": 51
        },
        "outputId": "559c72af-df20-4961-ba95-2366930af951"
      },
      "source": [
        "import os\n",
        "from google.colab import drive\n",
        "\n",
        "\n",
        "# tweets folder contains all tweets\n",
        "drive.mount('/content/drive')\n",
        "dataset = '/content/drive/My Drive/covid_project/tweets'\n",
        "print(dataset)\n"
      ],
      "execution_count": 1,
      "outputs": [
        {
          "output_type": "stream",
          "text": [
            "Drive already mounted at /content/drive; to attempt to forcibly remount, call drive.mount(\"/content/drive\", force_remount=True).\n",
            "/content/drive/My Drive/covid_project/tweets\n"
          ],
          "name": "stdout"
        }
      ]
    },
    {
      "cell_type": "code",
      "execution_count": null,
      "metadata": {},
      "outputs": [],
      "source": [
        "!pip install jsonlines"
      ]
    },
    {
      "cell_type": "markdown",
      "metadata": {
        "id": "epAwqxTBhtxp",
        "colab_type": "text"
      },
      "source": [
        "## Most cited domains and pages"
      ]
    },
    {
      "cell_type": "markdown",
      "metadata": {
        "id": "JR0fhZ31w-JO",
        "colab_type": "text"
      },
      "source": [
        "### make counter < domain : # tweets >"
      ]
    },
    {
      "cell_type": "code",
      "metadata": {
        "id": "REZpMqBkw7TA",
        "colab_type": "code",
        "colab": {}
      },
      "source": [
        "import glob\n",
        "import jsonlines\n",
        "from collections import Counter\n",
        "from urllib.parse import urlparse\n",
        "\n",
        "domains = Counter()\n",
        "pages = Counter()\n",
        "\n",
        "for file in glob.glob(dataset+\"/*.jsonl\"):\n",
        "  with jsonlines.open(file) as infile:\n",
        "      for line in infile:\n",
        "          for domain in line['entities']['urls']:\n",
        "            full_url = domain['expanded_url']\n",
        "\n",
        "            # count domains\n",
        "            domain = urlparse(full_url).netloc\n",
        "            domains[domain] += 1\n",
        "\n",
        "            # count pages\n",
        "            pages[full_url] += 1\n"
      ],
      "execution_count": 3,
      "outputs": []
    },
    {
      "cell_type": "markdown",
      "metadata": {
        "id": "x7gUBXtRz-hd",
        "colab_type": "text"
      },
      "source": [
        "### Show most cited domains"
      ]
    },
    {
      "cell_type": "code",
      "metadata": {
        "id": "cyMYFMYC16V5",
        "colab_type": "code",
        "colab": {
          "base_uri": "https://localhost:8080/",
          "height": 34
        },
        "outputId": "8d267bce-8281-4618-d22e-3adcf7a85858"
      },
      "source": [
        "print(f\"Total domains: {len(domains)}\")\n",
        "#print(domains)"
      ],
      "execution_count": 4,
      "outputs": [
        {
          "output_type": "stream",
          "text": [
            "Total domains: 23341\n"
          ],
          "name": "stdout"
        }
      ]
    },
    {
      "cell_type": "code",
      "metadata": {
        "id": "TaspSgcSwGdS",
        "colab_type": "code",
        "colab": {
          "base_uri": "https://localhost:8080/",
          "height": 357
        },
        "outputId": "b2b21a0f-d657-4aa8-c8a1-927a5b1c11cf"
      },
      "source": [
        "# print most cited domains\n",
        "to_show = 20\n",
        "\n",
        "i = 1\n",
        "for domain, count in domains.most_common(to_show):\n",
        "    print(f\"#{i} => {domain}: {count}\")\n",
        "    i += 1\n"
      ],
      "execution_count": 5,
      "outputs": [
        {
          "output_type": "stream",
          "text": [
            "#1 => twitter.com: 239036\n",
            "#2 => bit.ly: 23535\n",
            "#3 => youtu.be: 7186\n",
            "#4 => paper.li: 5696\n",
            "#5 => ow.ly: 4154\n",
            "#6 => www.instagram.com: 4079\n",
            "#7 => www.pscp.tv: 3985\n",
            "#8 => buff.ly: 3101\n",
            "#9 => trib.al: 2919\n",
            "#10 => www.youtube.com: 2150\n",
            "#11 => reut.rs: 1873\n",
            "#12 => www.theguardian.com: 1696\n",
            "#13 => www.washingtonpost.com: 1503\n",
            "#14 => www.nytimes.com: 1297\n",
            "#15 => lnkd.in: 1286\n",
            "#16 => dlvr.it: 1093\n",
            "#17 => tinyurl.com: 1080\n",
            "#18 => www.cnn.com: 1076\n",
            "#19 => www.facebook.com: 1036\n",
            "#20 => www.bbc.co.uk: 1024\n"
          ],
          "name": "stdout"
        }
      ]
    },
    {
      "cell_type": "markdown",
      "metadata": {
        "id": "mwg-Qd5WijmU",
        "colab_type": "text"
      },
      "source": [
        "### Show most cited pages"
      ]
    },
    {
      "cell_type": "code",
      "metadata": {
        "colab_type": "code",
        "id": "3coxGOeGiNiT",
        "colab": {
          "base_uri": "https://localhost:8080/",
          "height": 34
        },
        "outputId": "fd8827f4-cf92-4afa-d815-52f3a5c69341"
      },
      "source": [
        "print(f\"Total pages: {len(pages)}\")\n",
        "#print(pages)"
      ],
      "execution_count": 6,
      "outputs": [
        {
          "output_type": "stream",
          "text": [
            "Total pages: 221254\n"
          ],
          "name": "stdout"
        }
      ]
    },
    {
      "cell_type": "code",
      "metadata": {
        "colab_type": "code",
        "id": "4_m5c9LlirQ4",
        "colab": {
          "base_uri": "https://localhost:8080/",
          "height": 357
        },
        "outputId": "ce84268f-f333-4e84-b439-e8c5b413f32a"
      },
      "source": [
        "# print most cited pages\n",
        "to_show = 20\n",
        "\n",
        "i = 1\n",
        "for page, count in pages.most_common(to_show):\n",
        "    print(f\"#{i} => {page}: {count}\")\n",
        "    i += 1\n"
      ],
      "execution_count": 7,
      "outputs": [
        {
          "output_type": "stream",
          "text": [
            "#1 => https://twitter.com/i/events/1219057585707315201: 2720\n",
            "#2 => https://twitter.com/maxbrooksauthor/status/1239624352305303552: 2537\n",
            "#3 => https://twitter.com/BrookeGMcDonald/status/1238986272137502720: 2100\n",
            "#4 => https://twitter.com/Reuters/status/1239637550828064769: 1761\n",
            "#5 => http://bit.ly/337yabc: 1702\n",
            "#6 => https://trib.al/vVSjvun: 1438\n",
            "#7 => https://twitter.com/messages/compose?recipient_id=835740314006511618&text=Covid%20Act: 1217\n",
            "#8 => https://twitter.com/redfishstream/status/1238436668102893568: 1210\n",
            "#9 => https://twitter.com/LizSpecht/status/1236095180459003909: 944\n",
            "#10 => https://twitter.com/adamclarkitv/status/1236289649737371648: 934\n",
            "#11 => https://twitter.com/JasonWhitely/status/1238986444615618561: 884\n",
            "#12 => https://twitter.com/julialindau/status/1235714275752267776: 858\n",
            "#13 => https://twitter.com/silviast9/status/1236933818654896129: 777\n",
            "#14 => https://twitter.com/DrPeckPNP/status/1244062665535864832: 749\n",
            "#15 => https://twitter.com/balazscseko/status/1244612142831198209: 735\n",
            "#16 => https://twitter.com/JohnCornyn/status/1238878952644624390: 707\n",
            "#17 => https://twitter.com/weijia/status/1239923246801334283: 698\n",
            "#18 => https://www.pscp.tv/w/cT7j5TFsWkVwZ2xwWnZvam58MU1ZeE5remVxRG9Ldww4FGl-zudVwVOefXTfWWzdCHKwo85xw6-RgyMtPuHC: 688\n",
            "#19 => https://twitter.com/AnaCabrera/status/1238126303238410243: 661\n",
            "#20 => https://twitter.com/PalliThordarson/status/1236549305189597189: 642\n"
          ],
          "name": "stdout"
        }
      ]
    }
  ],
  "metadata": {
    "colab": {
      "name": "most_cited_domains_pages.ipynb",
      "provenance": [],
      "collapsed_sections": []
    },
    "kernelspec": {
      "name": "python3",
      "display_name": "Python 3"
    }
  },
  "nbformat": 4,
  "nbformat_minor": 0
}
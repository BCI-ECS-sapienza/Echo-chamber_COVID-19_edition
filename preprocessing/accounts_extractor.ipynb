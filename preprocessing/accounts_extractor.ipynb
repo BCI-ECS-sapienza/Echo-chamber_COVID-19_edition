{
  "cells": [
    {
      "cell_type": "markdown",
      "metadata": {
        "id": "ft_UmyzRPHp5",
        "colab_type": "text"
      },
      "source": [
        "# Accounts extractor\n"
      ]
    },
    {
      "cell_type": "markdown",
      "metadata": {
        "id": "BAaLHNXfJhSb",
        "colab_type": "text"
      },
      "source": [
        "Extract all the unique users in the datset and list them in a jsonl file"
      ]
    },
    {
      "cell_type": "markdown",
      "metadata": {
        "id": "6IE6rKUQy1nd",
        "colab_type": "text"
      },
      "source": [
        "### Import data"
      ]
    },
    {
      "cell_type": "code",
      "metadata": {
        "id": "zeIZFHpiy2K3",
        "colab_type": "code",
        "colab": {
          "base_uri": "https://localhost:8080/",
          "height": 51
        },
        "outputId": "8e187eb5-41cd-4b9e-bb8d-37c74915f3e2"
      },
      "source": [
        "import os\n",
        "from google.colab import drive\n",
        "\n",
        "\n",
        "# tweets folder contains all tweets\n",
        "drive.mount('/content/drive')\n",
        "dataset = '/content/drive/My Drive/covid_project/tweets'\n",
        "to_save = '/content/drive/My Drive/covid_project/graph_files'\n",
        "print(dataset)\n"
      ],
      "execution_count": 1,
      "outputs": [
        {
          "output_type": "stream",
          "text": [
            "Drive already mounted at /content/drive; to attempt to forcibly remount, call drive.mount(\"/content/drive\", force_remount=True).\n",
            "/content/drive/My Drive/covid_project/tweets\n"
          ],
          "name": "stdout"
        }
      ]
    },
    {
      "cell_type": "markdown",
      "metadata": {
        "id": "JR0fhZ31w-JO",
        "colab_type": "text"
      },
      "source": [
        "### make counter < account : # tweets >"
      ]
    },
    {
      "cell_type": "code",
      "metadata": {
        "id": "REZpMqBkw7TA",
        "colab_type": "code",
        "colab": {}
      },
      "source": [
        "import glob\n",
        "import jsonlines\n",
        "from collections import Counter\n",
        "\n",
        "accounts = Counter()\n",
        "for file in glob.glob(dataset+\"/*.jsonl\"):\n",
        "    with jsonlines.open(file) as infile:\n",
        "        for line in infile:\n",
        "            user = line['user']['name']\n",
        "            accounts[user] += 1\n",
        "\n"
      ],
      "execution_count": 3,
      "outputs": []
    },
    {
      "cell_type": "code",
      "metadata": {
        "id": "cyMYFMYC16V5",
        "colab_type": "code",
        "colab": {
          "base_uri": "https://localhost:8080/",
          "height": 34
        },
        "outputId": "bb56320b-dd5b-4fde-fc40-ca63ee662e1b"
      },
      "source": [
        "print(f\"Total unique accounts: {len(accounts)}\")\n",
        "#print(accounts)"
      ],
      "execution_count": 4,
      "outputs": [
        {
          "output_type": "stream",
          "text": [
            "Total unique accounts: 1169150\n"
          ],
          "name": "stdout"
        }
      ]
    },
    {
      "cell_type": "code",
      "metadata": {
        "id": "6J03aTcOGsZZ",
        "colab_type": "code",
        "colab": {}
      },
      "source": [
        "import json\n",
        "import jsonlines\n",
        "\n",
        "file = to_save + '/accounts.jsonl'\n",
        "\n",
        "with jsonlines.open(file, mode='w') as outfile:\n",
        "    for entry in accounts:\n",
        "      val = {'account':entry, 'tweets':accounts[entry]}\n",
        "      outfile.write(val)"
      ],
      "execution_count": 5,
      "outputs": []
    }
  ],
  "metadata": {
    "colab": {
      "name": "accounts_extractor.ipynb",
      "provenance": [],
      "collapsed_sections": []
    },
    "kernelspec": {
      "name": "python3",
      "display_name": "Python 3"
    }
  },
  "nbformat": 4,
  "nbformat_minor": 0
}
{
  "nbformat": 4,
  "nbformat_minor": 0,
  "metadata": {
    "colab": {
      "name": "graph_construction.ipynb",
      "provenance": [],
      "collapsed_sections": []
    },
    "kernelspec": {
      "name": "python3",
      "display_name": "Python 3"
    }
  },
  "cells": [
    {
      "cell_type": "markdown",
      "metadata": {
        "id": "ft_UmyzRPHp5",
        "colab_type": "text"
      },
      "source": [
        "# Graph construction\n"
      ]
    },
    {
      "cell_type": "markdown",
      "metadata": {
        "id": "Tro8j9bVJJDi",
        "colab_type": "text"
      },
      "source": [
        "Let's build the graph"
      ]
    },
    {
      "cell_type": "markdown",
      "metadata": {
        "id": "6IE6rKUQy1nd",
        "colab_type": "text"
      },
      "source": [
        "### Import data"
      ]
    },
    {
      "cell_type": "code",
      "metadata": {
        "id": "zeIZFHpiy2K3",
        "colab_type": "code",
        "colab": {
          "base_uri": "https://localhost:8080/",
          "height": 51
        },
        "outputId": "375f77fb-f3ee-4c07-9caf-a79d80c0dc84"
      },
      "source": [
        "import os\n",
        "from google.colab import drive\n",
        "\n",
        "\n",
        "# graph files folder\n",
        "drive.mount('/content/drive')\n",
        "data = '/content/drive/My Drive/covid_project/graph_files'\n",
        "print(data)\n"
      ],
      "execution_count": 1,
      "outputs": [
        {
          "output_type": "stream",
          "text": [
            "Drive already mounted at /content/drive; to attempt to forcibly remount, call drive.mount(\"/content/drive\", force_remount=True).\n",
            "/content/drive/My Drive/covid_project/graph_files\n"
          ],
          "name": "stdout"
        }
      ]
    },
    {
      "cell_type": "markdown",
      "metadata": {
        "id": "B6K8jMohLtY8",
        "colab_type": "text"
      },
      "source": [
        "### Essential imports"
      ]
    },
    {
      "cell_type": "code",
      "metadata": {
        "id": "LiUqvyWmF_Pc",
        "colab_type": "code",
        "colab": {
          "base_uri": "https://localhost:8080/",
          "height": 51
        },
        "outputId": "854dbe3e-271b-450f-8859-60ca9f937024"
      },
      "source": [
        "!pip install jsonlines\n",
        "import glob\n",
        "import jsonlines\n",
        "import networkx as nx"
      ],
      "execution_count": 2,
      "outputs": [
        {
          "output_type": "stream",
          "text": [
            "Requirement already satisfied: jsonlines in /usr/local/lib/python3.6/dist-packages (1.2.0)\n",
            "Requirement already satisfied: six in /usr/local/lib/python3.6/dist-packages (from jsonlines) (1.12.0)\n"
          ],
          "name": "stdout"
        }
      ]
    },
    {
      "cell_type": "markdown",
      "metadata": {
        "id": "JR0fhZ31w-JO",
        "colab_type": "text"
      },
      "source": [
        "### Add nodes (not really needed, in case remember to delete nodes with deg(0))"
      ]
    },
    {
      "cell_type": "code",
      "metadata": {
        "id": "xM5Z4tz8zs1h",
        "colab_type": "code",
        "colab": {}
      },
      "source": [
        "def add_nodes(G):\n",
        "  # make one node for each user\n",
        "  for file in glob.glob(data+\"/sampled_accounts.txt\"):\n",
        "      with open(file) as infile:\n",
        "          for line in infile:\n",
        "              G.add_node(line.strip())"
      ],
      "execution_count": 3,
      "outputs": []
    },
    {
      "cell_type": "markdown",
      "metadata": {
        "id": "Tu0FOy2bJ2RU",
        "colab_type": "text"
      },
      "source": [
        "### Add domains edges"
      ]
    },
    {
      "cell_type": "code",
      "metadata": {
        "id": "Wv-Do5r1J64p",
        "colab_type": "code",
        "colab": {}
      },
      "source": [
        "from itertools import combinations\n",
        "\n",
        "def add_domains_edges(G):\n",
        "  # make one edge to connect each user in the list of each domains\n",
        "  for file in glob.glob(data+\"/inverted_domains.jsonl\"):\n",
        "      with jsonlines.open(file) as infile:\n",
        "          for line in infile:\n",
        "              domain = line['domain']\n",
        "              users = line['users']\n",
        "\n",
        "              # connect each user to each user in the 'posting list', avoiding repetitions \n",
        "              for comb in combinations(users, 2):\n",
        "                  u1 = comb[0]\n",
        "                  u2 = comb[1]\n",
        "                  if G.has_edge(u1, u2):\n",
        "                      G[u1][u2]['weight'] += 1\n",
        "                  else:\n",
        "                      G.add_edge(u1, u2, weight=1)\n",
        "                                    "
      ],
      "execution_count": 4,
      "outputs": []
    },
    {
      "cell_type": "markdown",
      "metadata": {
        "id": "lz-2qtiHIjNS",
        "colab_type": "text"
      },
      "source": [
        "### Add hashtags edges"
      ]
    },
    {
      "cell_type": "code",
      "metadata": {
        "id": "l43343vRIoDY",
        "colab_type": "code",
        "colab": {}
      },
      "source": [
        "from itertools import combinations\n",
        "\n",
        "def add_hashtags_edges(G):\n",
        "  # make one edge to connect each user in the list of each domains\n",
        "  for file in glob.glob(data+\"/inverted_hashtags.jsonl\"):\n",
        "      with jsonlines.open(file) as infile:\n",
        "          for line in infile:\n",
        "              tag = line['hashtag']\n",
        "              users = line['users']\n",
        "\n",
        "              # connect each user to each user in the 'posting list', avoiding repetitions \n",
        "              for comb in combinations(users, 2):\n",
        "                  u1 = comb[0]\n",
        "                  u2 = comb[1]\n",
        "                  if G.has_edge(u1, u2):\n",
        "                      G[u1][u2]['weight'] += 1\n",
        "                  else:\n",
        "                      G.add_edge(u1, u2, weight=1)"
      ],
      "execution_count": 5,
      "outputs": []
    },
    {
      "cell_type": "markdown",
      "metadata": {
        "id": "E9n7CWIa-H5a",
        "colab_type": "text"
      },
      "source": [
        "### Add retweet and mentions edges"
      ]
    },
    {
      "cell_type": "code",
      "metadata": {
        "id": "bLVMSiCs-WQx",
        "colab_type": "code",
        "colab": {}
      },
      "source": [
        "def add_ret_ment_edges(G):\n",
        "  for file in glob.glob(data+\"/retweet_mentions.jsonl\"):\n",
        "      with jsonlines.open(file) as infile:\n",
        "          for line in infile:\n",
        "              u1 = line['user']\n",
        "              connections = line['connections']\n",
        "\n",
        "              # connect the user to each connection\n",
        "              for u2 in connections:\n",
        "                if G.has_edge(u1, u2):\n",
        "                      G[u1][u2]['weight'] += 1\n",
        "                else:\n",
        "                      G.add_edge(u1, u2, weight=1)\n",
        "            "
      ],
      "execution_count": 6,
      "outputs": []
    },
    {
      "cell_type": "markdown",
      "metadata": {
        "id": "gfJF9NIcN1Bk",
        "colab_type": "text"
      },
      "source": [
        "### Build the graph"
      ]
    },
    {
      "cell_type": "code",
      "metadata": {
        "id": "En4W52n6N0RA",
        "colab_type": "code",
        "colab": {
          "base_uri": "https://localhost:8080/",
          "height": 85
        },
        "outputId": "a0dc612e-b7fa-4352-9754-17929ebe67dc"
      },
      "source": [
        "def lets_build():\n",
        "  G = nx.Graph()\n",
        "  print(f\"Initial \\t\\t\\t # nodes: {G.number_of_nodes()}, \\t # edges: {G.number_of_edges()}\")\n",
        "  add_domains_edges(G)\n",
        "  clustering_coefficient = nx.average_clustering(G)\n",
        "  print(f\"After domains \\t\\t\\t # nodes: {G.number_of_nodes()},  # edges: {G.number_of_edges()},   clustering coefficient: {clustering_coefficient}\")\n",
        "  add_hashtags_edges(G)\n",
        "  clustering_coefficient = nx.average_clustering(G)\n",
        "  print(f\"After domains \\t\\t\\t # nodes: {G.number_of_nodes()}, # edges: {G.number_of_edges()},  clustering coefficient: {clustering_coefficient}\")\n",
        "  add_ret_ment_edges(G)\n",
        "  clustering_coefficient = nx.average_clustering(G)\n",
        "  print(f\"After retweets/mentions \\t # nodes: {G.number_of_nodes()}, # edges: {G.number_of_edges()},   clustering coefficient: {clustering_coefficient}\")\n",
        "  return G\n",
        "\n",
        "G = lets_build()"
      ],
      "execution_count": 8,
      "outputs": [
        {
          "output_type": "stream",
          "text": [
            "Initial \t\t\t # nodes: 0, \t # edges: 0\n",
            "After domains \t\t\t # nodes: 2995,  # edges: 18252,   clustering coefficient: 0.731353829365398\n",
            "After domains \t\t\t # nodes: 10298, # edges: 441348,  clustering coefficient: 0.779130029889205\n",
            "After retweets/mentions \t # nodes: 10938, # edges: 442391,   clustering coefficient: 0.7294592359119989\n"
          ],
          "name": "stdout"
        }
      ]
    },
    {
      "cell_type": "code",
      "metadata": {
        "id": "UmdXgRhpTuu1",
        "colab_type": "code",
        "colab": {
          "base_uri": "https://localhost:8080/",
          "height": 34
        },
        "outputId": "eb2fc201-a5df-49fb-fa22-dce045c1c752"
      },
      "source": [
        "#remove isolated nodes\n",
        "G.remove_nodes_from(list(nx.isolates(G)))\n",
        "clustering_coefficient = nx.average_clustering(G)\n",
        "print(f\"Remove isolated nodes # nodes: {G.number_of_nodes()}, # edges: {G.number_of_edges()},   clustering coefficient: {clustering_coefficient}\")"
      ],
      "execution_count": 9,
      "outputs": [
        {
          "output_type": "stream",
          "text": [
            "Remove isolated nodes # nodes: 10938, # edges: 442391,   clustering coefficient: 0.7294592359119989\n"
          ],
          "name": "stdout"
        }
      ]
    },
    {
      "cell_type": "markdown",
      "metadata": {
        "id": "KWOmzKf48kp1",
        "colab_type": "text"
      },
      "source": [
        "### Extract graph"
      ]
    },
    {
      "cell_type": "code",
      "metadata": {
        "id": "9bMMN_q18j3E",
        "colab_type": "code",
        "colab": {}
      },
      "source": [
        "final = nx.to_dict_of_dicts(G)\n",
        "\n",
        "# print first n elements in dic\n",
        "n = 3\n",
        "first_n = {k: final[k] for k in list(final)[:n]}\n",
        "#print(first_n)"
      ],
      "execution_count": 10,
      "outputs": []
    },
    {
      "cell_type": "code",
      "metadata": {
        "id": "ObrrJRByBc9d",
        "colab_type": "code",
        "colab": {}
      },
      "source": [
        "import pickle\n",
        "\n",
        "with open(data+'/graph.pickle', 'wb') as handle:\n",
        "    pickle.dump(final, handle, protocol=pickle.HIGHEST_PROTOCOL)"
      ],
      "execution_count": 11,
      "outputs": []
    },
    {
      "cell_type": "markdown",
      "metadata": {
        "id": "vXO6RggS0BU6",
        "colab_type": "text"
      },
      "source": [
        "### Python lib Luvain "
      ]
    },
    {
      "cell_type": "code",
      "metadata": {
        "id": "mVQpNU0T0Aig",
        "colab_type": "code",
        "colab": {}
      },
      "source": [
        "import community as community_louvain\n",
        "\n",
        "# compute the best partition\n",
        "partition = community_louvain.best_partition(G)"
      ],
      "execution_count": 12,
      "outputs": []
    },
    {
      "cell_type": "code",
      "metadata": {
        "id": "4zOE_Nkq0tcj",
        "colab_type": "code",
        "colab": {
          "base_uri": "https://localhost:8080/",
          "height": 34
        },
        "outputId": "82366572-addf-4fb8-f6e3-42248f2b0c59"
      },
      "source": [
        "print(f'Communities found by Luvain: {max(partition.values())}')"
      ],
      "execution_count": 13,
      "outputs": [
        {
          "output_type": "stream",
          "text": [
            "Communities found by Luvain: 388\n"
          ],
          "name": "stdout"
        }
      ]
    },
    {
      "cell_type": "markdown",
      "metadata": {
        "id": "ewcne1q1N0MC",
        "colab_type": "text"
      },
      "source": [
        "### Size of each community with more than 2 users"
      ]
    },
    {
      "cell_type": "code",
      "metadata": {
        "id": "iCVUFhyt39Lh",
        "colab_type": "code",
        "colab": {
          "base_uri": "https://localhost:8080/",
          "height": 34
        },
        "outputId": "cfa2a9db-50f8-47a2-d60d-6864702a19bd"
      },
      "source": [
        "from collections import Counter\n",
        "\n",
        "# size of each community\n",
        "values = partition.values()\n",
        "\n",
        "size_community = Counter()\n",
        "for val in values:\n",
        "    size_community[val] += 1\n",
        "\n",
        "\n",
        "# delete communities with only 2 users\n",
        "final = {}\n",
        "for value in size_community:\n",
        "  if size_community[value] > 2:\n",
        "    final[value] = size_community[value] \n",
        "\n",
        "print(len(final))"
      ],
      "execution_count": 14,
      "outputs": [
        {
          "output_type": "stream",
          "text": [
            "109\n"
          ],
          "name": "stdout"
        }
      ]
    },
    {
      "cell_type": "code",
      "metadata": {
        "id": "Ob-JgODnORyi",
        "colab_type": "code",
        "colab": {
          "base_uri": "https://localhost:8080/",
          "height": 54
        },
        "outputId": "c911d067-bc03-424e-d99a-b79b6e2d228b"
      },
      "source": [
        "print(final)"
      ],
      "execution_count": 15,
      "outputs": [
        {
          "output_type": "stream",
          "text": [
            "{0: 158, 1: 509, 2: 555, 3: 986, 4: 1335, 5: 490, 6: 947, 7: 1247, 8: 779, 9: 857, 10: 437, 11: 6, 12: 504, 16: 157, 17: 370, 18: 504, 21: 44, 23: 3, 26: 7, 27: 4, 30: 7, 37: 3, 38: 3, 39: 3, 45: 3, 48: 4, 50: 46, 51: 3, 52: 21, 57: 10, 59: 3, 67: 4, 70: 109, 72: 8, 73: 4, 77: 3, 81: 4, 84: 3, 96: 3, 97: 7, 103: 4, 104: 3, 108: 3, 109: 15, 112: 3, 113: 8, 114: 4, 116: 3, 127: 3, 129: 11, 139: 3, 141: 3, 143: 4, 144: 3, 148: 5, 150: 3, 157: 3, 158: 4, 164: 6, 166: 5, 173: 3, 178: 3, 179: 4, 181: 3, 182: 3, 183: 4, 184: 3, 186: 3, 187: 5, 188: 4, 190: 3, 195: 3, 196: 3, 197: 11, 199: 3, 202: 3, 208: 5, 211: 7, 213: 3, 219: 4, 220: 3, 221: 8, 224: 4, 228: 3, 232: 3, 235: 4, 240: 4, 246: 3, 249: 5, 252: 3, 253: 3, 257: 3, 265: 3, 274: 3, 275: 5, 276: 3, 278: 3, 279: 3, 281: 3, 282: 3, 283: 5, 288: 3, 292: 4, 293: 8, 297: 3, 316: 3, 322: 6, 326: 9, 331: 3}\n"
          ],
          "name": "stdout"
        }
      ]
    }
  ]
}
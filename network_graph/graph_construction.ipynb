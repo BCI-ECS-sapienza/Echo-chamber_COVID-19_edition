{
  "cells": [
    {
      "cell_type": "markdown",
      "metadata": {
        "id": "ft_UmyzRPHp5",
        "colab_type": "text"
      },
      "source": [
        "# Graph construction\n"
      ]
    },
    {
      "cell_type": "code",
      "metadata": {
        "id": "zeIZFHpiy2K3",
        "colab_type": "code",
        "colab": {
          "base_uri": "https://localhost:8080/",
          "height": 51
        },
        "outputId": "d8740237-520f-4ba2-ad24-7ca361952ee7"
      },
      "source": [
        "import os\n",
        "from google.colab import drive\n",
        "\n",
        "\n",
        "# graph files folder\n",
        "drive.mount('/content/drive')\n",
        "dataset = '/content/drive/My Drive/covid_project/tweets'\n",
        "data = '/content/drive/My Drive/covid_project/graph_files'\n",
        "print(data)\n"
      ],
      "execution_count": 50,
      "outputs": [
        {
          "output_type": "stream",
          "text": [
            "Drive already mounted at /content/drive; to attempt to forcibly remount, call drive.mount(\"/content/drive\", force_remount=True).\n",
            "/content/drive/My Drive/covid_project/graph_files\n"
          ],
          "name": "stdout"
        }
      ]
    },
    {
      "cell_type": "markdown",
      "metadata": {
        "id": "JR0fhZ31w-JO",
        "colab_type": "text"
      },
      "source": [
        "### Add nodes"
      ]
    },
    {
      "cell_type": "code",
      "metadata": {
        "id": "LiUqvyWmF_Pc",
        "colab_type": "code",
        "colab": {}
      },
      "source": [
        "import networkx as nx\n",
        "\n",
        "G = nx.Graph()"
      ],
      "execution_count": 51,
      "outputs": []
    },
    {
      "cell_type": "code",
      "metadata": {
        "id": "xM5Z4tz8zs1h",
        "colab_type": "code",
        "colab": {}
      },
      "source": [
        "import glob\n",
        "import jsonlines\n",
        "\n",
        "# make one node for each user\n",
        "for file in glob.glob(data+\"/sampled_accounts.jsonl\"):\n",
        "    with jsonlines.open(file) as infile:\n",
        "        for line in infile:\n",
        "            G.add_node(line)"
      ],
      "execution_count": 52,
      "outputs": []
    },
    {
      "cell_type": "code",
      "metadata": {
        "id": "cyMYFMYC16V5",
        "colab_type": "code",
        "colab": {
          "base_uri": "https://localhost:8080/",
          "height": 51
        },
        "outputId": "f5b852a3-7f6b-4101-db09-9abd4e492042"
      },
      "source": [
        "print(f\"# nodes: {G.number_of_nodes()}\")\n",
        "print(f\"# edges: {G.number_of_edges()}\")"
      ],
      "execution_count": 53,
      "outputs": [
        {
          "output_type": "stream",
          "text": [
            "# nodes: 10000\n",
            "# edges: 0\n"
          ],
          "name": "stdout"
        }
      ]
    },
    {
      "cell_type": "markdown",
      "metadata": {
        "id": "Tu0FOy2bJ2RU",
        "colab_type": "text"
      },
      "source": [
        "### Add domains edges"
      ]
    },
    {
      "cell_type": "code",
      "metadata": {
        "id": "Wv-Do5r1J64p",
        "colab_type": "code",
        "colab": {}
      },
      "source": [
        "from itertools import combinations\n",
        "\n",
        "\n",
        "# make one edge to connect each user in the list of each domains\n",
        "for file in glob.glob(data+\"/inverted_domains.jsonl\"):\n",
        "    with jsonlines.open(file) as infile:\n",
        "        for line in infile:\n",
        "            domain = line['domain']\n",
        "            users = line['users']\n",
        "            for comb in combinations(users, 2):\n",
        "                u1 = comb[0]\n",
        "                u2 = comb[1]\n",
        "                if G.has_edge(u1, u2):\n",
        "                    G[u1][u2]['weight'] += 1\n",
        "                else:\n",
        "                    G.add_edge(u1, u2, weight=1)\n",
        "                                    "
      ],
      "execution_count": 54,
      "outputs": []
    },
    {
      "cell_type": "code",
      "metadata": {
        "id": "okmLP1nNMh_9",
        "colab_type": "code",
        "colab": {
          "base_uri": "https://localhost:8080/",
          "height": 51
        },
        "outputId": "e8d7863c-1286-480e-b9a3-f01eebcaf304"
      },
      "source": [
        "print(f\"# nodes: {G.number_of_nodes()}\")\n",
        "print(f\"# edges: {G.number_of_edges()}\")"
      ],
      "execution_count": 55,
      "outputs": [
        {
          "output_type": "stream",
          "text": [
            "# nodes: 10000\n",
            "# edges: 2246\n"
          ],
          "name": "stdout"
        }
      ]
    }
  ],
  "metadata": {
    "colab": {
      "name": "graph_construction.ipynb",
      "provenance": [],
      "collapsed_sections": []
    },
    "kernelspec": {
      "name": "python3",
      "display_name": "Python 3"
    }
  },
  "nbformat": 4,
  "nbformat_minor": 0
}
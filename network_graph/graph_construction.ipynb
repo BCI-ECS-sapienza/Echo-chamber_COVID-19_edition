{
  "nbformat": 4,
  "nbformat_minor": 0,
  "metadata": {
    "colab": {
      "name": "graph_construction.ipynb",
      "provenance": [],
      "collapsed_sections": []
    },
    "kernelspec": {
      "name": "python3",
      "display_name": "Python 3"
    }
  },
  "cells": [
    {
      "cell_type": "markdown",
      "metadata": {
        "id": "ft_UmyzRPHp5",
        "colab_type": "text"
      },
      "source": [
        "# Graph construction\n"
      ]
    },
    {
      "cell_type": "markdown",
      "metadata": {
        "id": "Tro8j9bVJJDi",
        "colab_type": "text"
      },
      "source": [
        "Let's build the graph"
      ]
    },
    {
      "cell_type": "markdown",
      "metadata": {
        "id": "6IE6rKUQy1nd",
        "colab_type": "text"
      },
      "source": [
        "### Import data"
      ]
    },
    {
      "cell_type": "code",
      "metadata": {
        "id": "zeIZFHpiy2K3",
        "colab_type": "code",
        "colab": {
          "base_uri": "https://localhost:8080/",
          "height": 51
        },
        "outputId": "7076ac21-ec77-41ef-d81d-831ac579f3a8"
      },
      "source": [
        "import os\n",
        "from google.colab import drive\n",
        "\n",
        "\n",
        "# graph files folder\n",
        "drive.mount('/content/drive')\n",
        "data = '/content/drive/My Drive/covid_project/graph_files'\n",
        "print(data)\n"
      ],
      "execution_count": 1,
      "outputs": [
        {
          "output_type": "stream",
          "text": [
            "Drive already mounted at /content/drive; to attempt to forcibly remount, call drive.mount(\"/content/drive\", force_remount=True).\n",
            "/content/drive/My Drive/covid_project/graph_files\n"
          ],
          "name": "stdout"
        }
      ]
    },
    {
      "cell_type": "markdown",
      "metadata": {
        "id": "B6K8jMohLtY8",
        "colab_type": "text"
      },
      "source": [
        "### Essential imports"
      ]
    },
    {
      "cell_type": "code",
      "metadata": {
        "id": "LiUqvyWmF_Pc",
        "colab_type": "code",
        "colab": {
          "base_uri": "https://localhost:8080/",
          "height": 51
        },
        "outputId": "f58b1b48-de64-4d23-b7ab-28429fb00f21"
      },
      "source": [
        "!pip install jsonlines\n",
        "import glob\n",
        "import jsonlines\n",
        "import networkx as nx"
      ],
      "execution_count": 2,
      "outputs": [
        {
          "output_type": "stream",
          "text": [
            "Requirement already satisfied: jsonlines in /usr/local/lib/python3.6/dist-packages (1.2.0)\n",
            "Requirement already satisfied: six in /usr/local/lib/python3.6/dist-packages (from jsonlines) (1.12.0)\n"
          ],
          "name": "stdout"
        }
      ]
    },
    {
      "cell_type": "markdown",
      "metadata": {
        "id": "JR0fhZ31w-JO",
        "colab_type": "text"
      },
      "source": [
        "### Add nodes (not really needed)"
      ]
    },
    {
      "cell_type": "code",
      "metadata": {
        "id": "xM5Z4tz8zs1h",
        "colab_type": "code",
        "colab": {}
      },
      "source": [
        "def add_nodes(G):\n",
        "  # make one node for each user\n",
        "  with open(data+\"/sampled_accounts.txt\") as infile:\n",
        "      for line in infile:\n",
        "          G.add_node(line.strip())"
      ],
      "execution_count": 3,
      "outputs": []
    },
    {
      "cell_type": "markdown",
      "metadata": {
        "id": "Tu0FOy2bJ2RU",
        "colab_type": "text"
      },
      "source": [
        "### Add domains edges"
      ]
    },
    {
      "cell_type": "code",
      "metadata": {
        "id": "Wv-Do5r1J64p",
        "colab_type": "code",
        "colab": {}
      },
      "source": [
        "from itertools import combinations\n",
        "\n",
        "def add_domains_edges(G):\n",
        "  # make one edge to connect each user in the list of each domains\n",
        "  with jsonlines.open(data+\"/inverted_domains.jsonl\") as infile:\n",
        "      for line in infile:\n",
        "          domain = line['domain']\n",
        "          users = line['users']\n",
        "\n",
        "          # connect each user to each user in the 'posting list', avoiding repetitions \n",
        "          for comb in combinations(users, 2):\n",
        "              u1 = comb[0]\n",
        "              u2 = comb[1]\n",
        "              if G.has_edge(u1, u2):\n",
        "                  G[u1][u2]['weight'] += 1\n",
        "              else:\n",
        "                  G.add_edge(u1, u2, weight=1)\n",
        "                                    "
      ],
      "execution_count": 4,
      "outputs": []
    },
    {
      "cell_type": "markdown",
      "metadata": {
        "id": "lz-2qtiHIjNS",
        "colab_type": "text"
      },
      "source": [
        "### Add hashtags edges"
      ]
    },
    {
      "cell_type": "code",
      "metadata": {
        "id": "l43343vRIoDY",
        "colab_type": "code",
        "colab": {}
      },
      "source": [
        "from itertools import combinations\n",
        "\n",
        "def add_hashtags_edges(G):\n",
        "  # make one edge to connect each user in the list of each domains\n",
        "  with jsonlines.open(data+\"/inverted_hashtags.jsonl\") as infile:\n",
        "      for line in infile:\n",
        "          tag = line['hashtag']\n",
        "          users = line['users']\n",
        "\n",
        "          # connect each user to each user in the 'posting list', avoiding repetitions \n",
        "          for comb in combinations(users, 2):\n",
        "              u1 = comb[0]\n",
        "              u2 = comb[1]\n",
        "              if G.has_edge(u1, u2):\n",
        "                  G[u1][u2]['weight'] += 1\n",
        "              else:\n",
        "                  G.add_edge(u1, u2, weight=1)"
      ],
      "execution_count": 5,
      "outputs": []
    },
    {
      "cell_type": "markdown",
      "metadata": {
        "id": "E9n7CWIa-H5a",
        "colab_type": "text"
      },
      "source": [
        "### Add retweet and mentions edges"
      ]
    },
    {
      "cell_type": "code",
      "metadata": {
        "id": "bLVMSiCs-WQx",
        "colab_type": "code",
        "colab": {}
      },
      "source": [
        "def add_ret_ment_edges(G):\n",
        "    with jsonlines.open(data+\"/retweet_mentions.jsonl\") as infile:\n",
        "        for line in infile:\n",
        "            u1 = line['user']\n",
        "            connections = line['connections']\n",
        "\n",
        "            # connect the user to each connection\n",
        "            for u2 in connections:\n",
        "              if G.has_edge(u1, u2):\n",
        "                    G[u1][u2]['weight'] += 1\n",
        "              else:\n",
        "                    G.add_edge(u1, u2, weight=1)\n",
        "            "
      ],
      "execution_count": 6,
      "outputs": []
    },
    {
      "cell_type": "markdown",
      "metadata": {
        "id": "gfJF9NIcN1Bk",
        "colab_type": "text"
      },
      "source": [
        "### Build the graph"
      ]
    },
    {
      "cell_type": "code",
      "metadata": {
        "id": "En4W52n6N0RA",
        "colab_type": "code",
        "colab": {
          "base_uri": "https://localhost:8080/",
          "height": 85
        },
        "outputId": "1726b7c3-e720-4172-aeb5-68cbdb14f72c"
      },
      "source": [
        "def lets_build():\n",
        "  G = nx.Graph()\n",
        "  print(f\"Initial \\t\\t\\t # nodes: {G.number_of_nodes()}, \\t # edges: {G.number_of_edges()}\")\n",
        "  add_domains_edges(G)\n",
        "  clustering_coefficient = nx.average_clustering(G)\n",
        "  print(f\"After domains \\t\\t\\t # nodes: {G.number_of_nodes()},  # edges: {G.number_of_edges()},   avg. clustering coeff: {clustering_coefficient}\")\n",
        "  add_hashtags_edges(G)\n",
        "  clustering_coefficient = nx.average_clustering(G)\n",
        "  print(f\"After hashtags \\t\\t\\t # nodes: {G.number_of_nodes()}, # edges: {G.number_of_edges()},  avg. clustering coeff: {clustering_coefficient}\")\n",
        "  add_ret_ment_edges(G)\n",
        "  clustering_coefficient = nx.average_clustering(G)\n",
        "  print(f\"After retweets/mentions \\t # nodes: {G.number_of_nodes()}, # edges: {G.number_of_edges()},  avg. clustering coeff: {clustering_coefficient}\")\n",
        "  return G\n",
        "\n",
        "G = lets_build()"
      ],
      "execution_count": 7,
      "outputs": [
        {
          "output_type": "stream",
          "text": [
            "Initial \t\t\t # nodes: 0, \t # edges: 0\n",
            "After domains \t\t\t # nodes: 2995,  # edges: 18252,   avg. clustering coeff: 0.731353829365398\n",
            "After hashtags \t\t\t # nodes: 10298, # edges: 441348,  avg. clustering coeff: 0.779130029889205\n",
            "After retweets/mentions \t # nodes: 10938, # edges: 442391,  avg. clustering coeff: 0.7294592359119989\n"
          ],
          "name": "stdout"
        }
      ]
    },
    {
      "cell_type": "code",
      "metadata": {
        "id": "UmdXgRhpTuu1",
        "colab_type": "code",
        "colab": {
          "base_uri": "https://localhost:8080/",
          "height": 34
        },
        "outputId": "67ce730b-0231-4176-f2bb-7ed87174fde1"
      },
      "source": [
        "#take the giant component for better community detection\n",
        "Gcc = sorted(nx.connected_components(G), key=len, reverse=True)\n",
        "G = G.subgraph(Gcc[0])\n",
        "clustering_coefficient = nx.average_clustering(G)\n",
        "print(f\"Giant component \\t\\t # nodes: {G.number_of_nodes()}, # edges: {G.number_of_edges()},  avg. clustering coeff: {clustering_coefficient}\")"
      ],
      "execution_count": 8,
      "outputs": [
        {
          "output_type": "stream",
          "text": [
            "Giant component \t\t # nodes: 10162, # edges: 441707,  avg. clustering coeff: 0.7613322629146598\n"
          ],
          "name": "stdout"
        }
      ]
    },
    {
      "cell_type": "markdown",
      "metadata": {
        "id": "KWOmzKf48kp1",
        "colab_type": "text"
      },
      "source": [
        "### Extract graph"
      ]
    },
    {
      "cell_type": "code",
      "metadata": {
        "id": "9bMMN_q18j3E",
        "colab_type": "code",
        "colab": {}
      },
      "source": [
        "final = nx.to_dict_of_dicts(G)\n",
        "\n",
        "# print first n elements in dic\n",
        "n = 3\n",
        "first_n = {k: final[k] for k in list(final)[:n]}\n",
        "#print(first_n)"
      ],
      "execution_count": 9,
      "outputs": []
    },
    {
      "cell_type": "code",
      "metadata": {
        "id": "ObrrJRByBc9d",
        "colab_type": "code",
        "colab": {}
      },
      "source": [
        "import pickle\n",
        "\n",
        "with open(data+'/graph.pickle', 'wb') as handle:\n",
        "    pickle.dump(final, handle, protocol=pickle.HIGHEST_PROTOCOL)"
      ],
      "execution_count": 10,
      "outputs": []
    }
  ]
}
{
  "nbformat": 4,
  "nbformat_minor": 0,
  "metadata": {
    "colab": {
      "name": "graph_construction.ipynb",
      "provenance": [],
      "collapsed_sections": []
    },
    "kernelspec": {
      "name": "python3",
      "display_name": "Python 3"
    }
  },
  "cells": [
    {
      "cell_type": "markdown",
      "metadata": {
        "id": "ft_UmyzRPHp5",
        "colab_type": "text"
      },
      "source": [
        "# Graph construction\n"
      ]
    },
    {
      "cell_type": "markdown",
      "metadata": {
        "id": "Tro8j9bVJJDi",
        "colab_type": "text"
      },
      "source": [
        "Let's build the graph"
      ]
    },
    {
      "cell_type": "markdown",
      "metadata": {
        "id": "6IE6rKUQy1nd",
        "colab_type": "text"
      },
      "source": [
        "### Import data"
      ]
    },
    {
      "cell_type": "code",
      "metadata": {
        "id": "zeIZFHpiy2K3",
        "colab_type": "code",
        "colab": {
          "base_uri": "https://localhost:8080/",
          "height": 51
        },
        "outputId": "b673f4a6-7675-4ea4-f76a-c516591ee6c7"
      },
      "source": [
        "import os\n",
        "from google.colab import drive\n",
        "\n",
        "\n",
        "# graph files folder\n",
        "drive.mount('/content/drive')\n",
        "dataset = '/content/drive/My Drive/covid_project/tweets'\n",
        "data = '/content/drive/My Drive/covid_project/graph_files'\n",
        "print(data)\n"
      ],
      "execution_count": 1,
      "outputs": [
        {
          "output_type": "stream",
          "text": [
            "Drive already mounted at /content/drive; to attempt to forcibly remount, call drive.mount(\"/content/drive\", force_remount=True).\n",
            "/content/drive/My Drive/covid_project/graph_files\n"
          ],
          "name": "stdout"
        }
      ]
    },
    {
      "cell_type": "markdown",
      "metadata": {
        "id": "B6K8jMohLtY8",
        "colab_type": "text"
      },
      "source": [
        "### Essential imports"
      ]
    },
    {
      "cell_type": "code",
      "metadata": {
        "id": "LiUqvyWmF_Pc",
        "colab_type": "code",
        "colab": {}
      },
      "source": [
        "import glob\n",
        "import jsonlines\n",
        "import networkx as nx"
      ],
      "execution_count": 2,
      "outputs": []
    },
    {
      "cell_type": "markdown",
      "metadata": {
        "id": "JR0fhZ31w-JO",
        "colab_type": "text"
      },
      "source": [
        "### Add nodes (not really needed, in case remember to delete nodes with deg(0))"
      ]
    },
    {
      "cell_type": "code",
      "metadata": {
        "id": "xM5Z4tz8zs1h",
        "colab_type": "code",
        "colab": {}
      },
      "source": [
        "def add_nodes(G):\n",
        "  # make one node for each user\n",
        "  for file in glob.glob(data+\"/sampled_accounts.jsonl\"):\n",
        "      with jsonlines.open(file) as infile:\n",
        "          for line in infile:\n",
        "              G.add_node(line)"
      ],
      "execution_count": 3,
      "outputs": []
    },
    {
      "cell_type": "markdown",
      "metadata": {
        "id": "Tu0FOy2bJ2RU",
        "colab_type": "text"
      },
      "source": [
        "### Add domains edges"
      ]
    },
    {
      "cell_type": "code",
      "metadata": {
        "id": "Wv-Do5r1J64p",
        "colab_type": "code",
        "colab": {}
      },
      "source": [
        "from itertools import combinations\n",
        "\n",
        "def add_domains_edges(G):\n",
        "  # make one edge to connect each user in the list of each domains\n",
        "  for file in glob.glob(data+\"/inverted_domains.jsonl\"):\n",
        "      with jsonlines.open(file) as infile:\n",
        "          for line in infile:\n",
        "              domain = line['domain']\n",
        "              users = line['users']\n",
        "\n",
        "              # connect each user to each user in the 'posting list', avoiding repetitions \n",
        "              for comb in combinations(users, 2):\n",
        "                  u1 = comb[0]\n",
        "                  u2 = comb[1]\n",
        "                  if G.has_edge(u1, u2):\n",
        "                      G[u1][u2]['weight'] += 1\n",
        "                  else:\n",
        "                      G.add_edge(u1, u2, weight=1)\n",
        "                                    "
      ],
      "execution_count": 4,
      "outputs": []
    },
    {
      "cell_type": "markdown",
      "metadata": {
        "id": "E9n7CWIa-H5a",
        "colab_type": "text"
      },
      "source": [
        "### Add retweet and mentions edges"
      ]
    },
    {
      "cell_type": "code",
      "metadata": {
        "id": "bLVMSiCs-WQx",
        "colab_type": "code",
        "colab": {}
      },
      "source": [
        "def add_ret_ment_edges(G):\n",
        "  for file in glob.glob(data+\"/retweet_mentions.jsonl\"):\n",
        "      with jsonlines.open(file) as infile:\n",
        "          for line in infile:\n",
        "              u1 = line['user']\n",
        "              connections = line['connections']\n",
        "\n",
        "              # connect the user to each connection\n",
        "              for u2 in connections:\n",
        "                if G.has_edge(u1, u2):\n",
        "                      G[u1][u2]['weight'] += 1\n",
        "                else:\n",
        "                      G.add_edge(u1, u2, weight=1)\n",
        "            "
      ],
      "execution_count": 5,
      "outputs": []
    },
    {
      "cell_type": "markdown",
      "metadata": {
        "id": "gfJF9NIcN1Bk",
        "colab_type": "text"
      },
      "source": [
        "### Build the graph"
      ]
    },
    {
      "cell_type": "code",
      "metadata": {
        "id": "En4W52n6N0RA",
        "colab_type": "code",
        "colab": {
          "base_uri": "https://localhost:8080/",
          "height": 68
        },
        "outputId": "9a5feded-04e0-4a95-f176-bcc91c89b18a"
      },
      "source": [
        "def lets_build():\n",
        "  G = nx.Graph()\n",
        "  print(f\"Initial \\t\\t\\t # nodes: {G.number_of_nodes()},  # edges: {G.number_of_edges()}\")\n",
        "  add_domains_edges(G)\n",
        "  print(f\"After domains \\t\\t\\t # nodes: {G.number_of_nodes()},  # edges: {G.number_of_edges()}\")\n",
        "  add_ret_ment_edges(G)\n",
        "  print(f\"After retweets/mentions \\t # nodes: {G.number_of_nodes()},  # edges: {G.number_of_edges()}\")\n",
        "  return G\n",
        "\n",
        "Graph = lets_build()"
      ],
      "execution_count": 6,
      "outputs": [
        {
          "output_type": "stream",
          "text": [
            "Initial \t\t\t # nodes: 0,  # edges: 0\n",
            "After domains \t\t\t # nodes: 799,  # edges: 2246\n",
            "After retweets/mentions \t # nodes: 17831,  # edges: 20232\n"
          ],
          "name": "stdout"
        }
      ]
    }
  ]
}
{
  "cells": [
    {
      "cell_type": "markdown",
      "metadata": {
        "id": "ft_UmyzRPHp5",
        "colab_type": "text"
      },
      "source": [
        "# make inverted index of domains -> users"
      ]
    },
    {
      "cell_type": "markdown",
      "metadata": {
        "id": "6IE6rKUQy1nd",
        "colab_type": "text"
      },
      "source": [
        "### Import data"
      ]
    },
    {
      "cell_type": "code",
      "metadata": {
        "id": "zeIZFHpiy2K3",
        "colab_type": "code",
        "colab": {
          "base_uri": "https://localhost:8080/",
          "height": 51
        },
        "outputId": "b282ee41-cf9b-4d53-862a-c0c3f70e3e1a"
      },
      "source": [
        "import os\n",
        "from google.colab import drive\n",
        "\n",
        "\n",
        "# tweets folder contains all tweets\n",
        "drive.mount('/content/drive')\n",
        "data = '/content/drive/My Drive/covid_project/graph_files'\n",
        "print(data)\n"
      ],
      "execution_count": 1,
      "outputs": [
        {
          "output_type": "stream",
          "text": [
            "Drive already mounted at /content/drive; to attempt to forcibly remount, call drive.mount(\"/content/drive\", force_remount=True).\n",
            "/content/drive/My Drive/covid_project/graph_files\n"
          ],
          "name": "stdout"
        }
      ]
    },
    {
      "cell_type": "markdown",
      "metadata": {
        "id": "JR0fhZ31w-JO",
        "colab_type": "text"
      },
      "source": [
        "### make dictionary < domain : accounts >"
      ]
    },
    {
      "cell_type": "code",
      "metadata": {
        "id": "REZpMqBkw7TA",
        "colab_type": "code",
        "colab": {}
      },
      "source": [
        "import glob\n",
        "import jsonlines\n",
        "from urllib.parse import urlparse\n",
        "\n",
        "# list of 10 most cited domains, for them we use all the page\n",
        "most_cited = [ 'twitter.com', 'bit.ly', 'youtu.be', 'paper.li', 'ow.ly', 'www.instagram.com', 'www.pscp.tv', 'buff.ly', 'trib.al', 'www.youtube.com']\n",
        "\n",
        "domains = {}\n",
        "with jsonlines.open(data+\"/sampled_tweets.jsonl\") as infile:\n",
        "    for line in infile:\n",
        "        user = line['user']['name']\n",
        "\n",
        "        # for each domain (or page) add to dict the user\n",
        "        for domain in line['entities']['urls']:\n",
        "          full_url = domain['expanded_url']\n",
        "          dom = urlparse(full_url).netloc\n",
        "\n",
        "          # check if use complete or not\n",
        "          if dom in most_cited:\n",
        "            # check if already in index\n",
        "            if full_url in domains:\n",
        "              # check if user already in domanin \"posting list\"\n",
        "              if user not in domains[full_url]:\n",
        "                  domains[full_url].append(user)\n",
        "            else :\n",
        "              domains[full_url] = [user]\n",
        "          else:\n",
        "            if dom in domains:\n",
        "              if user not in domains[dom]:\n",
        "                  domains[dom].append(user)\n",
        "            else: \n",
        "              domains[dom] = [user]\n"
      ],
      "execution_count": 3,
      "outputs": []
    },
    {
      "cell_type": "code",
      "metadata": {
        "id": "cyMYFMYC16V5",
        "colab_type": "code",
        "colab": {
          "base_uri": "https://localhost:8080/",
          "height": 34
        },
        "outputId": "1b75ec0e-5845-49e9-d027-95c214277402"
      },
      "source": [
        "print(f\"Total domains/pages: {len(domains)}\")\n",
        "#print(domains)"
      ],
      "execution_count": 4,
      "outputs": [
        {
          "output_type": "stream",
          "text": [
            "Total domains/pages: 2795\n"
          ],
          "name": "stdout"
        }
      ]
    },
    {
      "cell_type": "code",
      "metadata": {
        "id": "_wl9O0u2-QZF",
        "colab_type": "code",
        "colab": {}
      },
      "source": [
        "import json\n",
        "import jsonlines\n",
        "\n",
        "file = data + '/inverted_domains.jsonl'\n",
        "\n",
        "with jsonlines.open(file, mode='w') as outfile:\n",
        "    for entry in domains:\n",
        "      val = {'domain':entry, 'users':domains[entry]}\n",
        "      outfile.write(val)"
      ],
      "execution_count": 5,
      "outputs": []
    }
  ],
  "metadata": {
    "colab": {
      "name": "domains_index.ipynb",
      "provenance": [],
      "collapsed_sections": []
    },
    "kernelspec": {
      "name": "python3",
      "display_name": "Python 3"
    }
  },
  "nbformat": 4,
  "nbformat_minor": 0
}
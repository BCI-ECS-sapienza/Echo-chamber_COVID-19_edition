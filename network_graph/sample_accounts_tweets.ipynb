{
  "cells": [
    {
      "cell_type": "markdown",
      "metadata": {
        "id": "ft_UmyzRPHp5",
        "colab_type": "text"
      },
      "source": [
        "# Graph accounts sampler\n"
      ]
    },
    {
      "cell_type": "markdown",
      "metadata": {
        "id": "Tro8j9bVJJDi",
        "colab_type": "text"
      },
      "source": [
        "Sample the desired number of accounts from the collection, save them in a jsonl file, and finally retrieve all the corresponding tweets that are then saved in a different jsonl file"
      ]
    },
    {
      "cell_type": "markdown",
      "metadata": {
        "id": "6IE6rKUQy1nd",
        "colab_type": "text"
      },
      "source": [
        "### Import data"
      ]
    },
    {
      "cell_type": "code",
      "metadata": {
        "id": "zeIZFHpiy2K3",
        "colab_type": "code",
        "colab": {
          "base_uri": "https://localhost:8080/",
          "height": 51
        },
        "outputId": "976caa32-9507-458c-8eff-0cf68b1f2ce4"
      },
      "source": [
        "import os\n",
        "from google.colab import drive\n",
        "\n",
        "\n",
        "# graph files folder\n",
        "drive.mount('/content/drive')\n",
        "dataset = '/content/drive/My Drive/covid_project/tweets'\n",
        "data = '/content/drive/My Drive/covid_project/graph_files'\n",
        "print(data)\n"
      ],
      "execution_count": null,
      "outputs": [
        {
          "output_type": "stream",
          "text": [
            "Drive already mounted at /content/drive; to attempt to forcibly remount, call drive.mount(\"/content/drive\", force_remount=True).\n",
            "/content/drive/My Drive/covid_project/graph_files\n"
          ],
          "name": "stdout"
        }
      ]
    },
    {
      "cell_type": "markdown",
      "metadata": {
        "id": "JR0fhZ31w-JO",
        "colab_type": "text"
      },
      "source": [
        "### Extract samples"
      ]
    },
    {
      "cell_type": "markdown",
      "metadata": {
        "id": "A-11h1bAzvSW",
        "colab_type": "text"
      },
      "source": [
        "#### List all accounts"
      ]
    },
    {
      "cell_type": "code",
      "metadata": {
        "id": "xM5Z4tz8zs1h",
        "colab_type": "code",
        "colab": {}
      },
      "source": [
        "import glob\n",
        "import jsonlines\n",
        "\n",
        "accounts = []\n",
        "with jsonlines.open(data+\"/accounts.jsonl\") as infile:\n",
        "    for line in infile:\n",
        "        user = line['account']\n",
        "        accounts.append(user)"
      ],
      "execution_count": null,
      "outputs": []
    },
    {
      "cell_type": "code",
      "metadata": {
        "id": "cyMYFMYC16V5",
        "colab_type": "code",
        "colab": {
          "base_uri": "https://localhost:8080/",
          "height": 34
        },
        "outputId": "cb9c85f2-4af0-491b-bb74-c9b432f61c12"
      },
      "source": [
        "print(f\"Total unique accounts: {len(accounts)}\")\n",
        "#print(accounts)"
      ],
      "execution_count": null,
      "outputs": [
        {
          "output_type": "stream",
          "text": [
            "Total unique accounts: 1169150\n"
          ],
          "name": "stdout"
        }
      ]
    },
    {
      "cell_type": "markdown",
      "metadata": {
        "id": "pjKebjd0z_AQ",
        "colab_type": "text"
      },
      "source": [
        "### Sample accounts"
      ]
    },
    {
      "cell_type": "code",
      "metadata": {
        "id": "wbQlxaj90EbU",
        "colab_type": "code",
        "colab": {}
      },
      "source": [
        "import json\n",
        "import jsonlines\n",
        "from random import sample \n",
        "\n",
        "# params \n",
        "number_samples = 10000\n",
        "file = data + '/sampled_accounts.jsonl'\n",
        "\n",
        "# extract sample\n",
        "samples = sample(accounts, number_samples)\n",
        "\n",
        "\n",
        "with jsonlines.open(file, mode='w') as outfile:\n",
        "    for entry in samples:\n",
        "      outfile.write(entry)"
      ],
      "execution_count": null,
      "outputs": []
    },
    {
      "cell_type": "code",
      "metadata": {
        "id": "pFd7YzXpEIL6",
        "colab_type": "code",
        "colab": {}
      },
      "source": [
        "#print(samples)"
      ],
      "execution_count": null,
      "outputs": []
    },
    {
      "cell_type": "markdown",
      "metadata": {
        "id": "2byh7qkXHR0J",
        "colab_type": "text"
      },
      "source": [
        "### Extract all tweets for each account"
      ]
    },
    {
      "cell_type": "code",
      "metadata": {
        "id": "0b9iD5ZwL4P4",
        "colab_type": "code",
        "colab": {}
      },
      "source": [
        "# params \n",
        "out = data + '/sampled_tweets.jsonl'\n",
        "outfile = jsonlines.open(out, mode='w')\n",
        "counter = 0\n",
        "\n",
        "for file in glob.glob(dataset + \"/*.jsonl\"):\n",
        "    with jsonlines.open(file) as infile:\n",
        "        for line in infile:\n",
        "          user = line['user']['name']\n",
        "          if user in samples:\n",
        "            outfile.write(line)\n",
        "            counter += 1\n",
        "\n",
        "\n",
        "outfile.close()"
      ],
      "execution_count": null,
      "outputs": []
    },
    {
      "cell_type": "code",
      "metadata": {
        "id": "OMQ9xFyqWVQO",
        "colab_type": "code",
        "colab": {
          "base_uri": "https://localhost:8080/"
        },
        "outputId": "3ea7fd9f-da33-4c6f-cf72-5207958fe39c"
      },
      "source": [
        "print(counter)"
      ],
      "execution_count": null,
      "outputs": [
        {
          "output_type": "stream",
          "text": [
            "22582\n"
          ],
          "name": "stdout"
        }
      ]
    }
  ],
  "metadata": {
    "colab": {
      "name": "sample_accounts_tweets.ipynb",
      "provenance": [],
      "collapsed_sections": []
    },
    "kernelspec": {
      "name": "python3",
      "display_name": "Python 3"
    }
  },
  "nbformat": 4,
  "nbformat_minor": 0
}
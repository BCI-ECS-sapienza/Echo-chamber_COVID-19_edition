{
  "nbformat": 4,
  "nbformat_minor": 0,
  "metadata": {
    "colab": {
      "name": "hashtags_index.ipynb",
      "provenance": [],
      "collapsed_sections": []
    },
    "kernelspec": {
      "name": "python3",
      "display_name": "Python 3"
    }
  },
  "cells": [
    {
      "cell_type": "markdown",
      "metadata": {
        "id": "ft_UmyzRPHp5",
        "colab_type": "text"
      },
      "source": [
        "# Make inverted index of hashtags -> users"
      ]
    },
    {
      "cell_type": "markdown",
      "metadata": {
        "id": "6IE6rKUQy1nd",
        "colab_type": "text"
      },
      "source": [
        "### Import data"
      ]
    },
    {
      "cell_type": "code",
      "metadata": {
        "id": "zeIZFHpiy2K3",
        "colab_type": "code",
        "colab": {
          "base_uri": "https://localhost:8080/",
          "height": 51
        },
        "outputId": "0e39d8e6-f3e1-4c77-87ec-eb77b58f5329"
      },
      "source": [
        "import os\n",
        "from google.colab import drive\n",
        "\n",
        "\n",
        "# tweets folder contains all tweets\n",
        "drive.mount('/content/drive')\n",
        "data = '/content/drive/My Drive/covid_project/graph_files'\n",
        "print(data)\n"
      ],
      "execution_count": null,
      "outputs": [
        {
          "output_type": "stream",
          "text": [
            "Drive already mounted at /content/drive; to attempt to forcibly remount, call drive.mount(\"/content/drive\", force_remount=True).\n",
            "/content/drive/My Drive/covid_project/graph_files\n"
          ],
          "name": "stdout"
        }
      ]
    },
    {
      "cell_type": "markdown",
      "metadata": {
        "id": "JR0fhZ31w-JO",
        "colab_type": "text"
      },
      "source": [
        "### Make dictionary < hashtag : accounts >"
      ]
    },
    {
      "cell_type": "code",
      "metadata": {
        "id": "GIVQeOcn1pAq",
        "colab_type": "code",
        "colab": {
          "base_uri": "https://localhost:8080/",
          "height": 51
        },
        "outputId": "04d35080-3389-402b-ee43-32a2bde92a5e"
      },
      "source": [
        "!pip install jsonlines"
      ],
      "execution_count": null,
      "outputs": [
        {
          "output_type": "stream",
          "text": [
            "Requirement already satisfied: jsonlines in /usr/local/lib/python3.6/dist-packages (1.2.0)\n",
            "Requirement already satisfied: six in /usr/local/lib/python3.6/dist-packages (from jsonlines) (1.12.0)\n"
          ],
          "name": "stdout"
        }
      ]
    },
    {
      "cell_type": "code",
      "metadata": {
        "id": "REZpMqBkw7TA",
        "colab_type": "code",
        "colab": {}
      },
      "source": [
        "import glob\n",
        "import jsonlines\n",
        "\n",
        "# list of tags similar to dataset keywords hashtags between 60 most commons\n",
        "most_used = [ 'covid19', 'coronaoutbreak', 'coronavirus', 'covidー19', 'coronavirusoutbreak', 'coronavirusupdates', \n",
        "             'breaking', 'covid_19', 'covid2019', 'coronapocalypse', 'corona', 'covid', 'coronaviruspandemic', \n",
        "             'coronavirusupdate', 'pandemic', 'coronapocolypse', 'sarscov2', 'virus', 'sars']\n",
        "\n",
        "tags = {}\n",
        "with jsonlines.open(data+\"/sampled_tweets.jsonl\") as infile:\n",
        "    for line in infile:\n",
        "        user = line['user']['name']\n",
        "\n",
        "        # for each hashtag add to dict the user\n",
        "        for elem in line['entities']['hashtags']:\n",
        "          tag = elem['text'].lower()\n",
        "          if tag not in most_used:\n",
        "            # check if already in index\n",
        "            if tag in tags:\n",
        "              # check if user already in hashtag \"posting list\"\n",
        "              if user not in tags[tag]:\n",
        "                  tags[tag].append(user)\n",
        "            else: \n",
        "              tags[tag] = [user]\n"
      ],
      "execution_count": null,
      "outputs": []
    },
    {
      "cell_type": "code",
      "metadata": {
        "id": "cyMYFMYC16V5",
        "colab_type": "code",
        "colab": {
          "base_uri": "https://localhost:8080/",
          "height": 34
        },
        "outputId": "d3054dae-97ee-4e3f-d5ef-b0200b58a9c4"
      },
      "source": [
        "print(f\"Total hashtags: {len(tags)}\")\n",
        "#print(tags)"
      ],
      "execution_count": null,
      "outputs": [
        {
          "output_type": "stream",
          "text": [
            "Total hashtags: 9522\n"
          ],
          "name": "stdout"
        }
      ]
    },
    {
      "cell_type": "code",
      "metadata": {
        "id": "_wl9O0u2-QZF",
        "colab_type": "code",
        "colab": {}
      },
      "source": [
        "import json\n",
        "import jsonlines\n",
        "\n",
        "file = data + '/inverted_hashtags.jsonl'\n",
        "\n",
        "with jsonlines.open(file, mode='w') as outfile:\n",
        "    for entry in tags:\n",
        "      val = {'hashtag':entry, 'users':tags[entry]}\n",
        "      outfile.write(val)"
      ],
      "execution_count": null,
      "outputs": []
    }
  ]
}
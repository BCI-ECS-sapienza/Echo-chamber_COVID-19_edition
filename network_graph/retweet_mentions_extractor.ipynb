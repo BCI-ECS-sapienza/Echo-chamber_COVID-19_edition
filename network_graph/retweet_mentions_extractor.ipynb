{
  "nbformat": 4,
  "nbformat_minor": 0,
  "metadata": {
    "colab": {
      "name": "retweet_mentions_extractor.ipynb",
      "provenance": [],
      "collapsed_sections": []
    },
    "kernelspec": {
      "name": "python3",
      "display_name": "Python 3"
    }
  },
  "cells": [
    {
      "cell_type": "markdown",
      "metadata": {
        "id": "ft_UmyzRPHp5",
        "colab_type": "text"
      },
      "source": [
        "# Make index of retweet and mentions for each user"
      ]
    },
    {
      "cell_type": "markdown",
      "metadata": {
        "id": "6IE6rKUQy1nd",
        "colab_type": "text"
      },
      "source": [
        "### Import data"
      ]
    },
    {
      "cell_type": "code",
      "metadata": {
        "id": "zeIZFHpiy2K3",
        "colab_type": "code",
        "colab": {
          "base_uri": "https://localhost:8080/",
          "height": 51
        },
        "outputId": "73b22aa9-5cdc-4465-9bbc-27b269f0f35d"
      },
      "source": [
        "import os\n",
        "from google.colab import drive\n",
        "\n",
        "\n",
        "# tweets folder contains all tweets\n",
        "drive.mount('/content/drive')\n",
        "data = '/content/drive/My Drive/covid_project/graph_files'\n",
        "print(data)\n"
      ],
      "execution_count": 1,
      "outputs": [
        {
          "output_type": "stream",
          "text": [
            "Drive already mounted at /content/drive; to attempt to forcibly remount, call drive.mount(\"/content/drive\", force_remount=True).\n",
            "/content/drive/My Drive/covid_project/graph_files\n"
          ],
          "name": "stdout"
        }
      ]
    },
    {
      "cell_type": "markdown",
      "metadata": {
        "id": "JR0fhZ31w-JO",
        "colab_type": "text"
      },
      "source": [
        "### make dictionary < user : connections >"
      ]
    },
    {
      "cell_type": "code",
      "metadata": {
        "id": "REZpMqBkw7TA",
        "colab_type": "code",
        "colab": {}
      },
      "source": [
        "import glob\n",
        "import jsonlines\n",
        "from urllib.parse import urlparse\n",
        "\n",
        "\n",
        "users = {}\n",
        "with jsonlines.open(data+\"/sampled_tweets.jsonl\") as infile:\n",
        "    for line in infile:\n",
        "        user = line['user']['name']\n",
        "\n",
        "        # If it is retweet, we want to consider only the connection with the original user\n",
        "        # this user is not interest by their mentions\n",
        "        if 'retweeted_status' in line:\n",
        "          connection = line['retweeted_status']['user']['name']\n",
        "\n",
        "          if user in users:\n",
        "            users[user].append(connection)\n",
        "          else:\n",
        "            users[user] = [connection]\n",
        "        \n",
        "        # If it simple tweet we want to extract all mentions\n",
        "        else:\n",
        "          connections = line['entities']['user_mentions']\n",
        "\n",
        "          for connection in connections:\n",
        "            if user in users:\n",
        "              users[user].append(connection['name'])\n",
        "            else:\n",
        "              users[user] = [connection['name']]\n"
      ],
      "execution_count": 3,
      "outputs": []
    },
    {
      "cell_type": "code",
      "metadata": {
        "id": "cyMYFMYC16V5",
        "colab_type": "code",
        "colab": {
          "base_uri": "https://localhost:8080/",
          "height": 34
        },
        "outputId": "e0d20c9c-24c2-4aa1-a770-1a5af074ee05"
      },
      "source": [
        "print(f\"Total users: {len(users)}\")\n",
        "#print(users)"
      ],
      "execution_count": 4,
      "outputs": [
        {
          "output_type": "stream",
          "text": [
            "Total users: 8687\n"
          ],
          "name": "stdout"
        }
      ]
    },
    {
      "cell_type": "markdown",
      "metadata": {
        "id": "czPhRba95Ufi",
        "colab_type": "text"
      },
      "source": [
        "The number of users in the dictionary is less than the number of users we sampled!  No worries, if we look at the statistics, this can be easily explained, considering that most users shared less than four tweets and in many cases, people do not mention anyone. "
      ]
    },
    {
      "cell_type": "code",
      "metadata": {
        "id": "_wl9O0u2-QZF",
        "colab_type": "code",
        "colab": {}
      },
      "source": [
        "import json\n",
        "import jsonlines\n",
        "\n",
        "file = data + '/retweet_mentions.jsonl'\n",
        "\n",
        "with jsonlines.open(file, mode='w') as outfile:\n",
        "    for entry in users:\n",
        "      val = {'user':entry, 'connections':users[entry]}\n",
        "      outfile.write(val)"
      ],
      "execution_count": 5,
      "outputs": []
    }
  ]
}
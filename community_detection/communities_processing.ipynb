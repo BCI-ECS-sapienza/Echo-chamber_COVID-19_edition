{
  "nbformat": 4,
  "nbformat_minor": 0,
  "metadata": {
    "colab": {
      "name": "communities_processing.ipynb",
      "provenance": [],
      "collapsed_sections": []
    },
    "kernelspec": {
      "name": "python3",
      "display_name": "Python 3"
    }
  },
  "cells": [
    {
      "cell_type": "markdown",
      "metadata": {
        "id": "6mMdZ7rcjvUs",
        "colab_type": "text"
      },
      "source": [
        "# Communitites processing\n"
      ]
    },
    {
      "cell_type": "markdown",
      "metadata": {
        "id": "CReO48qvkOXz",
        "colab_type": "text"
      },
      "source": [
        "### Import"
      ]
    },
    {
      "cell_type": "code",
      "metadata": {
        "id": "VGOCCqRbjrhU",
        "colab_type": "code",
        "colab": {
          "base_uri": "https://localhost:8080/",
          "height": 122
        },
        "outputId": "201b33e8-7a6d-4523-8d16-57aa7a5a6231"
      },
      "source": [
        "import os\n",
        "import pickle\n",
        "from collections import Counter, defaultdict\n",
        "from google.colab import drive\n",
        "\n",
        "# graph files folder\n",
        "drive.mount('/content/drive')\n",
        "graph_files = '/content/drive/My Drive/covid_project/graph_files'\n",
        "community_detection = '/content/drive/My Drive/covid_project/community_detection'"
      ],
      "execution_count": 1,
      "outputs": [
        {
          "output_type": "stream",
          "text": [
            "Go to this URL in a browser: https://accounts.google.com/o/oauth2/auth?client_id=947318989803-6bn6qk8qdgf4n4g3pfee6491hc0brc4i.apps.googleusercontent.com&redirect_uri=urn%3aietf%3awg%3aoauth%3a2.0%3aoob&response_type=code&scope=email%20https%3a%2f%2fwww.googleapis.com%2fauth%2fdocs.test%20https%3a%2f%2fwww.googleapis.com%2fauth%2fdrive%20https%3a%2f%2fwww.googleapis.com%2fauth%2fdrive.photos.readonly%20https%3a%2f%2fwww.googleapis.com%2fauth%2fpeopleapi.readonly\n",
            "\n",
            "Enter your authorization code:\n",
            "··········\n",
            "Mounted at /content/drive\n"
          ],
          "name": "stdout"
        }
      ]
    },
    {
      "cell_type": "markdown",
      "metadata": {
        "id": "OBeaiFQCkRVY",
        "colab_type": "text"
      },
      "source": [
        "### Processing"
      ]
    },
    {
      "cell_type": "code",
      "metadata": {
        "id": "x9MZiDFRkUK9",
        "colab_type": "code",
        "colab": {}
      },
      "source": [
        "print(\"COMMUNITIES PROCESSING\\n\")\n",
        "\n",
        "with open(community_detection+\"/communities.pickle\", \"rb\") as f:\n",
        "  communities = pickle.load(f)\n",
        "\n",
        "d_com = defaultdict(list)\n",
        "for c in communities:\n",
        "  d_com[communities[c]].append(c)\n",
        "\n",
        "print(len(d_com[3]))\n",
        "print(len(d_com[8]))\n",
        "print(len(d_com[6]))\n",
        "\n",
        "with open(community_detection+\"/accounts/yellow.txt\", \"w\") as f1:\n",
        "  for u in d_com[3]:\n",
        "    f1.write(f\"{u}\\n\")\n",
        "\n",
        "with open(community_detection+\"/accounts/violet.txt\", \"w\") as f2:\n",
        "  for u in d_com[8]:\n",
        "    f2.write(f\"{u}\\n\")\n",
        "\n",
        "with open(community_detection+\"/accounts/green.txt\", \"w\") as f3:\n",
        "  for u in d_com[6]:\n",
        "    f3.write(f\"{u}\\n\")"
      ],
      "execution_count": null,
      "outputs": []
    }
  ]
}
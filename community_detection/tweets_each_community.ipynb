{
  "nbformat": 4,
  "nbformat_minor": 0,
  "metadata": {
    "colab": {
      "name": "tweets_each_community.ipynb",
      "provenance": [],
      "collapsed_sections": []
    },
    "kernelspec": {
      "name": "python3",
      "display_name": "Python 3"
    }
  },
  "cells": [
    {
      "cell_type": "markdown",
      "metadata": {
        "id": "ft_UmyzRPHp5",
        "colab_type": "text"
      },
      "source": [
        "# Tweets in each community\n"
      ]
    },
    {
      "cell_type": "markdown",
      "metadata": {
        "id": "Tro8j9bVJJDi",
        "colab_type": "text"
      },
      "source": [
        "Extract all tweets from the user of each community to analyse"
      ]
    },
    {
      "cell_type": "markdown",
      "metadata": {
        "id": "6IE6rKUQy1nd",
        "colab_type": "text"
      },
      "source": [
        "### Import data"
      ]
    },
    {
      "cell_type": "code",
      "metadata": {
        "id": "zeIZFHpiy2K3",
        "colab_type": "code",
        "colab": {
          "base_uri": "https://localhost:8080/",
          "height": 51
        },
        "outputId": "90f2ec36-14b6-464b-cb45-00ab16a4a145"
      },
      "source": [
        "import os\n",
        "from google.colab import drive\n",
        "\n",
        "\n",
        "# files folder\n",
        "drive.mount('/content/drive')\n",
        "dataset = '/content/drive/My Drive/covid_project/tweets'\n",
        "data = '/content/drive/My Drive/covid_project/community_detection'\n",
        "print(data)\n"
      ],
      "execution_count": null,
      "outputs": [
        {
          "output_type": "stream",
          "text": [
            "Drive already mounted at /content/drive; to attempt to forcibly remount, call drive.mount(\"/content/drive\", force_remount=True).\n",
            "/content/drive/My Drive/covid_project/community_detection\n"
          ],
          "name": "stdout"
        }
      ]
    },
    {
      "cell_type": "markdown",
      "metadata": {
        "id": "JR0fhZ31w-JO",
        "colab_type": "text"
      },
      "source": [
        "### List accounts in each community"
      ]
    },
    {
      "cell_type": "code",
      "metadata": {
        "id": "GIVQeOcn1pAq",
        "colab_type": "code",
        "colab": {
          "base_uri": "https://localhost:8080/",
          "height": 51
        },
        "outputId": "530a01af-925c-4e9e-8c85-cadb58427484"
      },
      "source": [
        "!pip install jsonlines"
      ],
      "execution_count": null,
      "outputs": [
        {
          "output_type": "stream",
          "text": [
            "Requirement already satisfied: jsonlines in /usr/local/lib/python3.6/dist-packages (1.2.0)\n",
            "Requirement already satisfied: six in /usr/local/lib/python3.6/dist-packages (from jsonlines) (1.12.0)\n"
          ],
          "name": "stdout"
        }
      ]
    },
    {
      "cell_type": "code",
      "metadata": {
        "id": "xM5Z4tz8zs1h",
        "colab_type": "code",
        "colab": {
          "base_uri": "https://localhost:8080/",
          "height": 68
        },
        "outputId": "1f30a72c-0285-4014-9ba2-65970f52cd8d"
      },
      "source": [
        "import glob\n",
        "import jsonlines\n",
        "\n",
        "communities = []\n",
        "\n",
        "for file in glob.glob(data + \"/accounts/*.txt\"):\n",
        "  print(file)\n",
        "  accounts = []\n",
        "  with open(file) as infile:\n",
        "    for line in infile:\n",
        "        accounts.append(line.strip())\n",
        "\n",
        "  communities.append(accounts)"
      ],
      "execution_count": null,
      "outputs": [
        {
          "output_type": "stream",
          "text": [
            "/content/drive/My Drive/covid_project/community_detection/accounts/yellow.txt\n",
            "/content/drive/My Drive/covid_project/community_detection/accounts/green.txt\n",
            "/content/drive/My Drive/covid_project/community_detection/accounts/violet.txt\n"
          ],
          "name": "stdout"
        }
      ]
    },
    {
      "cell_type": "code",
      "metadata": {
        "id": "cyMYFMYC16V5",
        "colab_type": "code",
        "colab": {
          "base_uri": "https://localhost:8080/",
          "height": 85
        },
        "outputId": "30a7cfba-3d7c-42c0-9a30-e6f1d482bd67"
      },
      "source": [
        "print(f\"Total communities: {len(communities)}\")\n",
        "for i in range(len(communities)):\n",
        "  print(f\"Total accounts in community{i}: {len(communities[i])}\")"
      ],
      "execution_count": null,
      "outputs": [
        {
          "output_type": "stream",
          "text": [
            "Total communities: 3\n",
            "Total accounts in community0: 1577\n",
            "Total accounts in community1: 990\n",
            "Total accounts in community2: 1240\n"
          ],
          "name": "stdout"
        }
      ]
    },
    {
      "cell_type": "markdown",
      "metadata": {
        "id": "2byh7qkXHR0J",
        "colab_type": "text"
      },
      "source": [
        "### Extract all tweets for each account in each community"
      ]
    },
    {
      "cell_type": "code",
      "metadata": {
        "id": "mcCmZUTSxkit",
        "colab_type": "code",
        "colab": {}
      },
      "source": [
        "# make and open tweets out files\n",
        "out_files = []\n",
        "for i in range(len(communities)):\n",
        "  out = data + '/tweets/tweets_community' + str(i) + '.jsonl'\n",
        "  outfile = jsonlines.open(out, mode='w')\n",
        "  out_files.append(outfile)"
      ],
      "execution_count": null,
      "outputs": []
    },
    {
      "cell_type": "code",
      "metadata": {
        "id": "0b9iD5ZwL4P4",
        "colab_type": "code",
        "colab": {
          "base_uri": "https://localhost:8080/",
          "height": 68
        },
        "outputId": "8654e423-b698-491f-fdd2-c69ab8db479f"
      },
      "source": [
        "# count tweets for each community\n",
        "counts = []\n",
        "for i in range(len(communities)):\n",
        "  counts.append(0)\n",
        "\n",
        "# write on each file \n",
        "for file in glob.glob(dataset + \"/*.jsonl\"):\n",
        "    with jsonlines.open(file) as infile:\n",
        "        for line in infile:\n",
        "          user = line['user']['name']\n",
        "\n",
        "          # find corresponding community (if there is one)\n",
        "          for i in range(len(communities)):\n",
        "            if user in communities[i]:\n",
        "              outfile = out_files[i]\n",
        "              outfile.write(line)\n",
        "              counts[i] += 1\n",
        "\n",
        "for file in out_files:\n",
        "  file.close()\n",
        "\n",
        "for i in range(len(counts)):\n",
        "  print(f\"Total tweets in community{i}: {counts[i]}\")"
      ],
      "execution_count": null,
      "outputs": [
        {
          "output_type": "stream",
          "text": [
            "Total tweets in community0: 5727\n",
            "Total tweets in community1: 2399\n",
            "Total tweets in community2: 5347\n"
          ],
          "name": "stdout"
        }
      ]
    }
  ]
}